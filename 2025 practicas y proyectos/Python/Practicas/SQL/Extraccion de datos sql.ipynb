{
 "cells": [
  {
   "cell_type": "markdown",
   "id": "b165f280",
   "metadata": {},
   "source": [
    "# Creando conexiones y extrayendo datos desde SQL server con PYODBC y SQLALCHEMY"
   ]
  },
  {
   "cell_type": "markdown",
   "id": "bc7f77f5",
   "metadata": {},
   "source": [
    "En este proyecto, lo que haremos es conectar Python con una base de datos SQL Server utilizando bibliotecas como pyodbc y sqlalchemy. Esto nos permitirá acceder y extraer datos de forma eficiente, manejándolos cómodamente en pandas. Es útil porque simplifica la interacción con bases de datos y automatiza procesos de consulta. Además, es clave tener en cuenta la configuración correcta de las credenciales y el controlador para evitar problemas de conexión. ¡Con estas herramientas, trabajar con SQL Server será mucho más sencillo y organizado!"
   ]
  },
  {
   "cell_type": "markdown",
   "id": "ae8f786b",
   "metadata": {},
   "source": [
    "## Importamos las librerias necesarias"
   ]
  },
  {
   "cell_type": "code",
   "execution_count": 1,
   "id": "0a00d09e",
   "metadata": {},
   "outputs": [
    {
     "name": "stdout",
     "output_type": "stream",
     "text": [
      "Requirement already satisfied: pyodbc in c:\\users\\gaming\\appdata\\local\\programs\\python\\python310\\lib\\site-packages (5.2.0)\n"
     ]
    }
   ],
   "source": [
    "!pip install pyodbc\n",
    "\n",
    "import sqlalchemy\n",
    "import pandas as pd\n",
    "import pyodbc as podbc"
   ]
  },
  {
   "cell_type": "markdown",
   "id": "b7c77332",
   "metadata": {},
   "source": [
    "## Conexión con PYODBC"
   ]
  },
  {
   "cell_type": "code",
   "execution_count": 2,
   "id": "58831f19",
   "metadata": {
    "scrolled": false
   },
   "outputs": [
    {
     "name": "stderr",
     "output_type": "stream",
     "text": [
      "C:\\Users\\Gaming\\AppData\\Local\\Temp\\ipykernel_18856\\2623273544.py:39: UserWarning: pandas only supports SQLAlchemy connectable (engine/connection) or database string URI or sqlite3 DBAPI2 connection. Other DBAPI2 objects are not tested. Please consider using SQLAlchemy.\n",
      "  df = pd.read_sql(sql_query, connection)\n"
     ]
    },
    {
     "data": {
      "text/html": [
       "<div>\n",
       "<style scoped>\n",
       "    .dataframe tbody tr th:only-of-type {\n",
       "        vertical-align: middle;\n",
       "    }\n",
       "\n",
       "    .dataframe tbody tr th {\n",
       "        vertical-align: top;\n",
       "    }\n",
       "\n",
       "    .dataframe thead th {\n",
       "        text-align: right;\n",
       "    }\n",
       "</style>\n",
       "<table border=\"1\" class=\"dataframe\">\n",
       "  <thead>\n",
       "    <tr style=\"text-align: right;\">\n",
       "      <th></th>\n",
       "      <th>Id_Donacion</th>\n",
       "      <th>Fecha_Donacion</th>\n",
       "      <th>Alta</th>\n",
       "      <th>Baja</th>\n",
       "      <th>CUIT</th>\n",
       "      <th>Frecuencia</th>\n",
       "      <th>Nro_Cuenta</th>\n",
       "      <th>Importe</th>\n",
       "    </tr>\n",
       "  </thead>\n",
       "  <tbody>\n",
       "    <tr>\n",
       "      <th>0</th>\n",
       "      <td>1</td>\n",
       "      <td>2024-02-26</td>\n",
       "      <td>2024-02-26</td>\n",
       "      <td>2024-02-26</td>\n",
       "      <td>20-12342678-9</td>\n",
       "      <td>Mensual</td>\n",
       "      <td>402101</td>\n",
       "      <td>292732.0</td>\n",
       "    </tr>\n",
       "    <tr>\n",
       "      <th>1</th>\n",
       "      <td>2</td>\n",
       "      <td>2024-01-12</td>\n",
       "      <td>2024-01-12</td>\n",
       "      <td>2024-01-12</td>\n",
       "      <td>21-23456789-0</td>\n",
       "      <td>Bimestral</td>\n",
       "      <td>403101</td>\n",
       "      <td>326439.0</td>\n",
       "    </tr>\n",
       "    <tr>\n",
       "      <th>2</th>\n",
       "      <td>3</td>\n",
       "      <td>2024-06-08</td>\n",
       "      <td>2024-06-08</td>\n",
       "      <td>2024-06-08</td>\n",
       "      <td>22-34567890-1</td>\n",
       "      <td>Anual</td>\n",
       "      <td>403101</td>\n",
       "      <td>276920.0</td>\n",
       "    </tr>\n",
       "    <tr>\n",
       "      <th>3</th>\n",
       "      <td>4</td>\n",
       "      <td>2024-02-11</td>\n",
       "      <td>2024-02-11</td>\n",
       "      <td>2024-02-11</td>\n",
       "      <td>23-45678901-2</td>\n",
       "      <td>Mensual</td>\n",
       "      <td>402101</td>\n",
       "      <td>406733.0</td>\n",
       "    </tr>\n",
       "    <tr>\n",
       "      <th>4</th>\n",
       "      <td>5</td>\n",
       "      <td>2024-05-29</td>\n",
       "      <td>2024-05-29</td>\n",
       "      <td>2024-05-29</td>\n",
       "      <td>24-56789012-3</td>\n",
       "      <td>Bimestral</td>\n",
       "      <td>403101</td>\n",
       "      <td>352572.0</td>\n",
       "    </tr>\n",
       "  </tbody>\n",
       "</table>\n",
       "</div>"
      ],
      "text/plain": [
       "   Id_Donacion Fecha_Donacion        Alta        Baja           CUIT  \\\n",
       "0            1     2024-02-26  2024-02-26  2024-02-26  20-12342678-9   \n",
       "1            2     2024-01-12  2024-01-12  2024-01-12  21-23456789-0   \n",
       "2            3     2024-06-08  2024-06-08  2024-06-08  22-34567890-1   \n",
       "3            4     2024-02-11  2024-02-11  2024-02-11  23-45678901-2   \n",
       "4            5     2024-05-29  2024-05-29  2024-05-29  24-56789012-3   \n",
       "\n",
       "  Frecuencia  Nro_Cuenta   Importe  \n",
       "0    Mensual      402101  292732.0  \n",
       "1  Bimestral      403101  326439.0  \n",
       "2      Anual      403101  276920.0  \n",
       "3    Mensual      402101  406733.0  \n",
       "4  Bimestral      403101  352572.0  "
      ]
     },
     "execution_count": 2,
     "metadata": {},
     "output_type": "execute_result"
    }
   ],
   "source": [
    "import pandas as pd\n",
    "import pyodbc as podbc\n",
    "\n",
    "def conexion_sql_server():\n",
    "    \"\"\"\n",
    "    Establece una conexión con una base de datos SQL Server usando ODBC.\n",
    "\n",
    "    Este método utiliza el controlador ODBC 17 para SQL Server y se conecta a\n",
    "    la instancia de SQL Server especificada.\n",
    "\n",
    "    Devuelve:\n",
    "        connection: Un objeto de conexión a la base de datos de SQL Server.\n",
    "        \n",
    "    \"\"\"\n",
    "    connection = podbc.connect(\n",
    "        Trusted_Connection='yes',\n",
    "        Driver='{ODBC Driver 17 for SQL Server}',\n",
    "        Server='DESKTOP-PTELUGB\\SQLEXPRESS',\n",
    "        Database='Fundacion'\n",
    "    )\n",
    "    return connection\n",
    "\n",
    "def extraccion(sql_query, connection):\n",
    "    \"\"\"\n",
    "    Ejecuta una consulta SQL en la conexión proporcionada y devuelve los resultados en un DataFrame.\n",
    "\n",
    "    Parameters:\n",
    "        sql_query (str): La consulta SQL a ejecutar.\n",
    "        connection: Un objeto de conexión a la base de datos de SQL Server.\n",
    "\n",
    "    Returns:\n",
    "        pd.DataFrame: Un DataFrame que contiene los resultados de la consulta.\n",
    "    \n",
    "    Excepciones:\n",
    "        Captura excepciones que puedan ocurrir durante la ejecución de la consulta\n",
    "        e imprime el error en caso de fallo.\n",
    "    \"\"\"\n",
    "    try:\n",
    "        df = pd.read_sql(sql_query, connection)\n",
    "    except Exception as e:\n",
    "        print(e)\n",
    "    finally:\n",
    "        connection.close()  # Asegura que la conexión se cierre después de ejecutar la consulta.\n",
    "    return df\n",
    "\n",
    "\n",
    "# Ejemplo de uso\n",
    "conexion = conexion_sql_server()  # Establece la conexión a la base de datos SQL Server\n",
    "query = \"SELECT * FROM Donaciones\"  # Define la consulta SQL para extraer datos de la tabla Donaciones\n",
    "df = extraccion(query, conexion)  # Ejecuta la consulta y obtiene los datos en un DataFrame\n",
    "df.head()  # Devuelve las primeras filas del DataFrame\n"
   ]
  },
  {
   "cell_type": "markdown",
   "id": "a69f4bd2",
   "metadata": {},
   "source": [
    "### Demos un pequeño vistazo a nuestro dataset"
   ]
  },
  {
   "cell_type": "code",
   "execution_count": 3,
   "id": "8061caf1",
   "metadata": {},
   "outputs": [
    {
     "name": "stdout",
     "output_type": "stream",
     "text": [
      "Original shape : (610, 8)\n",
      "There were 0 duplicates\n",
      "New shape : (610, 8)\n"
     ]
    }
   ],
   "source": [
    "# How we see, we have 610 rows and 8 columns \n",
    "fs=df.shape\n",
    "print('Original shape : {}'.format(fs))\n",
    "\n",
    "#Dropping duplicate values\n",
    "df = df.drop_duplicates()\n",
    "\n",
    "# How we see, there were no duplicates\n",
    "ns= df.shape\n",
    "print('There were {} duplicates'.format((fs[0])-(ns[0])))\n",
    "print('New shape : {}'.format(ns))"
   ]
  },
  {
   "cell_type": "code",
   "execution_count": 4,
   "id": "255c64cd",
   "metadata": {},
   "outputs": [
    {
     "name": "stdout",
     "output_type": "stream",
     "text": [
      "<class 'pandas.core.frame.DataFrame'>\n",
      "RangeIndex: 610 entries, 0 to 609\n",
      "Data columns (total 8 columns):\n",
      " #   Column          Non-Null Count  Dtype  \n",
      "---  ------          --------------  -----  \n",
      " 0   Id_Donacion     610 non-null    int64  \n",
      " 1   Fecha_Donacion  610 non-null    object \n",
      " 2   Alta            610 non-null    object \n",
      " 3   Baja            269 non-null    object \n",
      " 4   CUIT            610 non-null    object \n",
      " 5   Frecuencia      610 non-null    object \n",
      " 6   Nro_Cuenta      610 non-null    int64  \n",
      " 7   Importe         610 non-null    float64\n",
      "dtypes: float64(1), int64(2), object(5)\n",
      "memory usage: 38.2+ KB\n"
     ]
    }
   ],
   "source": [
    "#More information about the dataset and the data type of each column\n",
    "df.info()"
   ]
  },
  {
   "cell_type": "code",
   "execution_count": 5,
   "id": "c0b24499",
   "metadata": {},
   "outputs": [
    {
     "data": {
      "text/plain": [
       "Id_Donacion         0\n",
       "Fecha_Donacion      0\n",
       "Alta                0\n",
       "Baja              341\n",
       "CUIT                0\n",
       "Frecuencia          0\n",
       "Nro_Cuenta          0\n",
       "Importe             0\n",
       "dtype: int64"
      ]
     },
     "execution_count": 5,
     "metadata": {},
     "output_type": "execute_result"
    }
   ],
   "source": [
    "#check if we have any nulls in the dataset\n",
    "df.isnull().sum()"
   ]
  },
  {
   "cell_type": "code",
   "execution_count": 6,
   "id": "ee83dd2a",
   "metadata": {},
   "outputs": [
    {
     "data": {
      "text/html": [
       "<div>\n",
       "<style scoped>\n",
       "    .dataframe tbody tr th:only-of-type {\n",
       "        vertical-align: middle;\n",
       "    }\n",
       "\n",
       "    .dataframe tbody tr th {\n",
       "        vertical-align: top;\n",
       "    }\n",
       "\n",
       "    .dataframe thead th {\n",
       "        text-align: right;\n",
       "    }\n",
       "</style>\n",
       "<table border=\"1\" class=\"dataframe\">\n",
       "  <thead>\n",
       "    <tr style=\"text-align: right;\">\n",
       "      <th></th>\n",
       "      <th>count</th>\n",
       "      <th>mean</th>\n",
       "      <th>std</th>\n",
       "      <th>min</th>\n",
       "      <th>25%</th>\n",
       "      <th>50%</th>\n",
       "      <th>75%</th>\n",
       "      <th>max</th>\n",
       "    </tr>\n",
       "  </thead>\n",
       "  <tbody>\n",
       "    <tr>\n",
       "      <th>Id_Donacion</th>\n",
       "      <td>610.0</td>\n",
       "      <td>305.500000</td>\n",
       "      <td>176.236111</td>\n",
       "      <td>1.0</td>\n",
       "      <td>153.25</td>\n",
       "      <td>305.5</td>\n",
       "      <td>457.75</td>\n",
       "      <td>610.0</td>\n",
       "    </tr>\n",
       "    <tr>\n",
       "      <th>Nro_Cuenta</th>\n",
       "      <td>610.0</td>\n",
       "      <td>404039.722951</td>\n",
       "      <td>1094.482765</td>\n",
       "      <td>402101.0</td>\n",
       "      <td>403103.00</td>\n",
       "      <td>404100.0</td>\n",
       "      <td>405100.00</td>\n",
       "      <td>409021.0</td>\n",
       "    </tr>\n",
       "    <tr>\n",
       "      <th>Importe</th>\n",
       "      <td>610.0</td>\n",
       "      <td>312010.449180</td>\n",
       "      <td>215891.166922</td>\n",
       "      <td>11747.0</td>\n",
       "      <td>119542.50</td>\n",
       "      <td>271959.0</td>\n",
       "      <td>482172.75</td>\n",
       "      <td>1121873.0</td>\n",
       "    </tr>\n",
       "  </tbody>\n",
       "</table>\n",
       "</div>"
      ],
      "text/plain": [
       "             count           mean            std       min        25%  \\\n",
       "Id_Donacion  610.0     305.500000     176.236111       1.0     153.25   \n",
       "Nro_Cuenta   610.0  404039.722951    1094.482765  402101.0  403103.00   \n",
       "Importe      610.0  312010.449180  215891.166922   11747.0  119542.50   \n",
       "\n",
       "                  50%        75%        max  \n",
       "Id_Donacion     305.5     457.75      610.0  \n",
       "Nro_Cuenta   404100.0  405100.00   409021.0  \n",
       "Importe      271959.0  482172.75  1121873.0  "
      ]
     },
     "execution_count": 6,
     "metadata": {},
     "output_type": "execute_result"
    }
   ],
   "source": [
    "#Metrics of the distribution of all numeric features in the dataset\n",
    "df.describe().T"
   ]
  },
  {
   "cell_type": "code",
   "execution_count": 7,
   "id": "3dd59b81",
   "metadata": {},
   "outputs": [
    {
     "data": {
      "text/plain": [
       "Id_Donacion       610\n",
       "Fecha_Donacion    450\n",
       "Alta              104\n",
       "Baja              217\n",
       "CUIT              140\n",
       "Frecuencia          5\n",
       "Nro_Cuenta          7\n",
       "Importe           609\n",
       "dtype: int64"
      ]
     },
     "execution_count": 7,
     "metadata": {},
     "output_type": "execute_result"
    }
   ],
   "source": [
    "#Unique values\n",
    "df.nunique()"
   ]
  },
  {
   "cell_type": "markdown",
   "id": "f02afc2a",
   "metadata": {},
   "source": [
    "## Conexión con SQLALCHEMY"
   ]
  },
  {
   "cell_type": "code",
   "execution_count": 8,
   "id": "c969249c",
   "metadata": {
    "scrolled": true
   },
   "outputs": [
    {
     "data": {
      "text/html": [
       "<div>\n",
       "<style scoped>\n",
       "    .dataframe tbody tr th:only-of-type {\n",
       "        vertical-align: middle;\n",
       "    }\n",
       "\n",
       "    .dataframe tbody tr th {\n",
       "        vertical-align: top;\n",
       "    }\n",
       "\n",
       "    .dataframe thead th {\n",
       "        text-align: right;\n",
       "    }\n",
       "</style>\n",
       "<table border=\"1\" class=\"dataframe\">\n",
       "  <thead>\n",
       "    <tr style=\"text-align: right;\">\n",
       "      <th></th>\n",
       "      <th>pizza_id</th>\n",
       "      <th>order_id</th>\n",
       "      <th>pizza_name_id</th>\n",
       "      <th>quantity</th>\n",
       "      <th>order_date</th>\n",
       "      <th>order_time</th>\n",
       "      <th>unit_price</th>\n",
       "      <th>total_price</th>\n",
       "      <th>pizza_size</th>\n",
       "      <th>pizza_category</th>\n",
       "      <th>pizza_ingredients</th>\n",
       "      <th>pizza_name</th>\n",
       "    </tr>\n",
       "  </thead>\n",
       "  <tbody>\n",
       "    <tr>\n",
       "      <th>0</th>\n",
       "      <td>1</td>\n",
       "      <td>1</td>\n",
       "      <td>hawaiian_m</td>\n",
       "      <td>1</td>\n",
       "      <td>2015-01-01</td>\n",
       "      <td>11:38:36</td>\n",
       "      <td>1325.0</td>\n",
       "      <td>1325.0</td>\n",
       "      <td>M</td>\n",
       "      <td>Classic</td>\n",
       "      <td>Sliced Ham, Pineapple, Mozzarella Cheese</td>\n",
       "      <td>The Hawaiian Pizza</td>\n",
       "    </tr>\n",
       "    <tr>\n",
       "      <th>1</th>\n",
       "      <td>2</td>\n",
       "      <td>2</td>\n",
       "      <td>classic_dlx_m</td>\n",
       "      <td>1</td>\n",
       "      <td>2015-01-01</td>\n",
       "      <td>11:57:40</td>\n",
       "      <td>16.0</td>\n",
       "      <td>16.0</td>\n",
       "      <td>M</td>\n",
       "      <td>Classic</td>\n",
       "      <td>Pepperoni, Mushrooms, Red Onions, Red Peppers,...</td>\n",
       "      <td>The Classic Deluxe Pizza</td>\n",
       "    </tr>\n",
       "    <tr>\n",
       "      <th>2</th>\n",
       "      <td>3</td>\n",
       "      <td>2</td>\n",
       "      <td>five_cheese_l</td>\n",
       "      <td>1</td>\n",
       "      <td>2015-01-01</td>\n",
       "      <td>11:57:40</td>\n",
       "      <td>185.0</td>\n",
       "      <td>185.0</td>\n",
       "      <td>L</td>\n",
       "      <td>Veggie</td>\n",
       "      <td>Mozzarella Cheese, Provolone Cheese, Smoked Go...</td>\n",
       "      <td>The Five Cheese Pizza</td>\n",
       "    </tr>\n",
       "    <tr>\n",
       "      <th>3</th>\n",
       "      <td>4</td>\n",
       "      <td>2</td>\n",
       "      <td>ital_supr_l</td>\n",
       "      <td>1</td>\n",
       "      <td>2015-01-01</td>\n",
       "      <td>11:57:40</td>\n",
       "      <td>2075.0</td>\n",
       "      <td>2075.0</td>\n",
       "      <td>L</td>\n",
       "      <td>Supreme</td>\n",
       "      <td>Calabrese Salami, Capocollo, Tomatoes, Red Oni...</td>\n",
       "      <td>The Italian Supreme Pizza</td>\n",
       "    </tr>\n",
       "    <tr>\n",
       "      <th>4</th>\n",
       "      <td>5</td>\n",
       "      <td>2</td>\n",
       "      <td>mexicana_m</td>\n",
       "      <td>1</td>\n",
       "      <td>2015-01-01</td>\n",
       "      <td>11:57:40</td>\n",
       "      <td>16.0</td>\n",
       "      <td>16.0</td>\n",
       "      <td>M</td>\n",
       "      <td>Veggie</td>\n",
       "      <td>Tomatoes, Red Peppers, Jalapeno Peppers, Red O...</td>\n",
       "      <td>The Mexicana Pizza</td>\n",
       "    </tr>\n",
       "  </tbody>\n",
       "</table>\n",
       "</div>"
      ],
      "text/plain": [
       "   pizza_id  order_id  pizza_name_id  quantity  order_date order_time  \\\n",
       "0         1         1     hawaiian_m         1  2015-01-01   11:38:36   \n",
       "1         2         2  classic_dlx_m         1  2015-01-01   11:57:40   \n",
       "2         3         2  five_cheese_l         1  2015-01-01   11:57:40   \n",
       "3         4         2    ital_supr_l         1  2015-01-01   11:57:40   \n",
       "4         5         2     mexicana_m         1  2015-01-01   11:57:40   \n",
       "\n",
       "   unit_price  total_price pizza_size pizza_category  \\\n",
       "0      1325.0       1325.0          M        Classic   \n",
       "1        16.0         16.0          M        Classic   \n",
       "2       185.0        185.0          L         Veggie   \n",
       "3      2075.0       2075.0          L        Supreme   \n",
       "4        16.0         16.0          M         Veggie   \n",
       "\n",
       "                                   pizza_ingredients  \\\n",
       "0           Sliced Ham, Pineapple, Mozzarella Cheese   \n",
       "1  Pepperoni, Mushrooms, Red Onions, Red Peppers,...   \n",
       "2  Mozzarella Cheese, Provolone Cheese, Smoked Go...   \n",
       "3  Calabrese Salami, Capocollo, Tomatoes, Red Oni...   \n",
       "4  Tomatoes, Red Peppers, Jalapeno Peppers, Red O...   \n",
       "\n",
       "                  pizza_name  \n",
       "0         The Hawaiian Pizza  \n",
       "1   The Classic Deluxe Pizza  \n",
       "2      The Five Cheese Pizza  \n",
       "3  The Italian Supreme Pizza  \n",
       "4         The Mexicana Pizza  "
      ]
     },
     "execution_count": 8,
     "metadata": {},
     "output_type": "execute_result"
    }
   ],
   "source": [
    "\n",
    "def configurar_conexion(username: str, password: str, server: str, database: str) -> sqlalchemy.engine.base.Engine:\n",
    "    \"\"\"\n",
    "    Configura una conexión a la base de datos SQL Server utilizando SQLAlchemy.\n",
    "\n",
    "    Parameters:\n",
    "        username (str): Nombre de usuario para la conexión a la base de datos.\n",
    "        password (str): Contraseña para la conexión a la base de datos.\n",
    "        server (str): Nombre del servidor SQL Server.\n",
    "        database (str): Nombre de la base de datos a la que se desea acceder.\n",
    "\n",
    "    Returns:\n",
    "        engine: Un objeto de motor de conexión creado para acceder a la base de datos.\n",
    "    \n",
    "    \"\"\"\n",
    "    connection_string = f'mssql+pyodbc://{username}:{password}@{server}/{database}?driver=ODBC+Driver+17+for+SQL+Server'\n",
    "    engine = sqlalchemy.create_engine(connection_string)\n",
    "    return engine\n",
    "\n",
    "def extraccion_datos(query: str, engine: sqlalchemy.engine.base.Engine) -> pd.DataFrame:\n",
    "    \"\"\"\n",
    "    Ejecuta una consulta SQL utilizando el motor de conexión proporcionado y devuelve los resultados en un DataFrame.\n",
    "\n",
    "    Parameters:\n",
    "        query (str): La consulta SQL a ejecutar.\n",
    "        engine: Un objeto de motor de conexión SQLAlchemy.\n",
    "\n",
    "    Returns:\n",
    "        pd.DataFrame: Un DataFrame que contiene los resultados de la consulta.\n",
    "    \n",
    "    Excepciones:\n",
    "        Lanza un error si se produce un problema durante la ejecución de la consulta.\n",
    "    \"\"\"\n",
    "    try:\n",
    "        df = pd.read_sql(query, engine)\n",
    "    except Exception as e:\n",
    "        print(e)\n",
    "        return pd.DataFrame()  # Retorna un DataFrame vacío en caso de error\n",
    "    return df\n",
    "\n",
    "# Ejemplo de uso\n",
    "username = ''  # Especificar el nombre de usuario\n",
    "password = ''  # Especificar la contraseña\n",
    "server = 'DESKTOP-PTELUGB\\SQLEXPRESS'\n",
    "database = 'PizzaDB'\n",
    "\n",
    "# Configurar la conexión a la base de datos\n",
    "engine = configurar_conexion(username, password, server, database)\n",
    "\n",
    "# Definir la consulta SQL para extraer datos de la tabla pizza_sales\n",
    "query = \"SELECT * FROM pizza_sales\"\n",
    "\n",
    "# Ejecutar la consulta y obtener los datos en un DataFrame\n",
    "data = extraccion_datos(query, engine)\n",
    "\n",
    "# Mostrar las primeras filas del DataFrame\n",
    "data.head()"
   ]
  },
  {
   "cell_type": "markdown",
   "id": "afd8460b",
   "metadata": {},
   "source": [
    "### Demos un pequeño vistazo a nuestro segundo dataset"
   ]
  },
  {
   "cell_type": "code",
   "execution_count": 9,
   "id": "465ce5f5",
   "metadata": {},
   "outputs": [
    {
     "name": "stdout",
     "output_type": "stream",
     "text": [
      "Original shape : (48620, 12)\n",
      "There were 0 duplicates\n",
      "New shape : (48620, 12)\n"
     ]
    }
   ],
   "source": [
    "# How we see, we have 610 rows and 8 columns \n",
    "fs=data.shape\n",
    "print('Original shape : {}'.format(fs))\n",
    "\n",
    "#Dropping duplicate values\n",
    "data = data.drop_duplicates()\n",
    "\n",
    "# How we see, there were no duplicates\n",
    "ns= data.shape\n",
    "print('There were {} duplicates'.format((fs[0])-(ns[0])))\n",
    "print('New shape : {}'.format(ns))"
   ]
  },
  {
   "cell_type": "code",
   "execution_count": 10,
   "id": "08f399c7",
   "metadata": {},
   "outputs": [
    {
     "name": "stdout",
     "output_type": "stream",
     "text": [
      "<class 'pandas.core.frame.DataFrame'>\n",
      "RangeIndex: 48620 entries, 0 to 48619\n",
      "Data columns (total 12 columns):\n",
      " #   Column             Non-Null Count  Dtype  \n",
      "---  ------             --------------  -----  \n",
      " 0   pizza_id           48620 non-null  int64  \n",
      " 1   order_id           48620 non-null  int64  \n",
      " 2   pizza_name_id      48620 non-null  object \n",
      " 3   quantity           48620 non-null  int64  \n",
      " 4   order_date         48620 non-null  object \n",
      " 5   order_time         48620 non-null  object \n",
      " 6   unit_price         48620 non-null  float64\n",
      " 7   total_price        48620 non-null  float64\n",
      " 8   pizza_size         48620 non-null  object \n",
      " 9   pizza_category     48620 non-null  object \n",
      " 10  pizza_ingredients  48620 non-null  object \n",
      " 11  pizza_name         48620 non-null  object \n",
      "dtypes: float64(2), int64(3), object(7)\n",
      "memory usage: 4.5+ MB\n"
     ]
    }
   ],
   "source": [
    "#More information about the dataset and the data type of each column\n",
    "data.info()"
   ]
  },
  {
   "cell_type": "code",
   "execution_count": 11,
   "id": "86397fde",
   "metadata": {},
   "outputs": [
    {
     "data": {
      "text/html": [
       "<div>\n",
       "<style scoped>\n",
       "    .dataframe tbody tr th:only-of-type {\n",
       "        vertical-align: middle;\n",
       "    }\n",
       "\n",
       "    .dataframe tbody tr th {\n",
       "        vertical-align: top;\n",
       "    }\n",
       "\n",
       "    .dataframe thead th {\n",
       "        text-align: right;\n",
       "    }\n",
       "</style>\n",
       "<table border=\"1\" class=\"dataframe\">\n",
       "  <thead>\n",
       "    <tr style=\"text-align: right;\">\n",
       "      <th></th>\n",
       "      <th>count</th>\n",
       "      <th>mean</th>\n",
       "      <th>std</th>\n",
       "      <th>min</th>\n",
       "      <th>25%</th>\n",
       "      <th>50%</th>\n",
       "      <th>75%</th>\n",
       "      <th>max</th>\n",
       "    </tr>\n",
       "  </thead>\n",
       "  <tbody>\n",
       "    <tr>\n",
       "      <th>pizza_id</th>\n",
       "      <td>48620.0</td>\n",
       "      <td>24310.500000</td>\n",
       "      <td>14035.529381</td>\n",
       "      <td>1.0</td>\n",
       "      <td>12155.75</td>\n",
       "      <td>24310.5</td>\n",
       "      <td>36465.25</td>\n",
       "      <td>48620.0</td>\n",
       "    </tr>\n",
       "    <tr>\n",
       "      <th>order_id</th>\n",
       "      <td>48620.0</td>\n",
       "      <td>10701.479761</td>\n",
       "      <td>6180.119770</td>\n",
       "      <td>1.0</td>\n",
       "      <td>5337.00</td>\n",
       "      <td>10682.5</td>\n",
       "      <td>16100.00</td>\n",
       "      <td>21350.0</td>\n",
       "    </tr>\n",
       "    <tr>\n",
       "      <th>quantity</th>\n",
       "      <td>48620.0</td>\n",
       "      <td>1.019622</td>\n",
       "      <td>0.143077</td>\n",
       "      <td>1.0</td>\n",
       "      <td>1.00</td>\n",
       "      <td>1.0</td>\n",
       "      <td>1.00</td>\n",
       "      <td>4.0</td>\n",
       "    </tr>\n",
       "    <tr>\n",
       "      <th>unit_price</th>\n",
       "      <td>48620.0</td>\n",
       "      <td>955.201851</td>\n",
       "      <td>880.919175</td>\n",
       "      <td>11.0</td>\n",
       "      <td>125.00</td>\n",
       "      <td>975.0</td>\n",
       "      <td>2025.00</td>\n",
       "      <td>3595.0</td>\n",
       "    </tr>\n",
       "    <tr>\n",
       "      <th>total_price</th>\n",
       "      <td>48620.0</td>\n",
       "      <td>940.389099</td>\n",
       "      <td>880.498462</td>\n",
       "      <td>11.0</td>\n",
       "      <td>125.00</td>\n",
       "      <td>415.0</td>\n",
       "      <td>1795.00</td>\n",
       "      <td>6225.0</td>\n",
       "    </tr>\n",
       "  </tbody>\n",
       "</table>\n",
       "</div>"
      ],
      "text/plain": [
       "               count          mean           std   min       25%      50%  \\\n",
       "pizza_id     48620.0  24310.500000  14035.529381   1.0  12155.75  24310.5   \n",
       "order_id     48620.0  10701.479761   6180.119770   1.0   5337.00  10682.5   \n",
       "quantity     48620.0      1.019622      0.143077   1.0      1.00      1.0   \n",
       "unit_price   48620.0    955.201851    880.919175  11.0    125.00    975.0   \n",
       "total_price  48620.0    940.389099    880.498462  11.0    125.00    415.0   \n",
       "\n",
       "                  75%      max  \n",
       "pizza_id     36465.25  48620.0  \n",
       "order_id     16100.00  21350.0  \n",
       "quantity         1.00      4.0  \n",
       "unit_price    2025.00   3595.0  \n",
       "total_price   1795.00   6225.0  "
      ]
     },
     "execution_count": 11,
     "metadata": {},
     "output_type": "execute_result"
    }
   ],
   "source": [
    "#Metrics of the distribution of all numeric features in the dataset\n",
    "data.describe().T"
   ]
  },
  {
   "cell_type": "code",
   "execution_count": 12,
   "id": "871de642",
   "metadata": {},
   "outputs": [
    {
     "data": {
      "text/plain": [
       "pizza_id             48620\n",
       "order_id             21350\n",
       "pizza_name_id           91\n",
       "quantity                 4\n",
       "order_date             358\n",
       "order_time           16382\n",
       "unit_price              25\n",
       "total_price             56\n",
       "pizza_size               5\n",
       "pizza_category           4\n",
       "pizza_ingredients       32\n",
       "pizza_name              32\n",
       "dtype: int64"
      ]
     },
     "execution_count": 12,
     "metadata": {},
     "output_type": "execute_result"
    }
   ],
   "source": [
    "#Unique values\n",
    "data.nunique()"
   ]
  },
  {
   "cell_type": "markdown",
   "id": "1262cae4",
   "metadata": {},
   "source": [
    "Además de establecer la conexión con SQL Server, revisar la estructura y el tipo de datos fue un paso clave para entender cómo están organizados y asegurarnos de que sean adecuados para el análisis o procesamiento que queremos realizar. Este análisis inicial no solo nos ayuda a prevenir errores más adelante, sino que también permite optimizar el trabajo con los datos, garantizando que las herramientas y consultas que implementemos sean las correctas para alcanzar nuestros objetivos."
   ]
  }
 ],
 "metadata": {
  "kernelspec": {
   "display_name": "Python 3 (ipykernel)",
   "language": "python",
   "name": "python3"
  },
  "language_info": {
   "codemirror_mode": {
    "name": "ipython",
    "version": 3
   },
   "file_extension": ".py",
   "mimetype": "text/x-python",
   "name": "python",
   "nbconvert_exporter": "python",
   "pygments_lexer": "ipython3",
   "version": "3.10.4"
  }
 },
 "nbformat": 4,
 "nbformat_minor": 5
}
