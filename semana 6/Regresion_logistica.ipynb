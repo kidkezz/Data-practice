{
  "nbformat": 4,
  "nbformat_minor": 0,
  "metadata": {
    "colab": {
      "provenance": []
    },
    "kernelspec": {
      "name": "python3",
      "display_name": "Python 3"
    },
    "language_info": {
      "name": "python"
    }
  },
  "cells": [
    {
      "cell_type": "markdown",
      "source": [
        "#Aplicando el modelo de regresión logística y sus respectivas metricas\n",
        "En este dataset tratare de hacer un buen analisis y tratamiento de los datos para poder obtener un buen resultado usando la regresión logistica y sus respectivas metricas como lo son la matriz de confusion o su curva roc, esto para poner en practica conceptos aprendidos, un buen ejemplo podria ser un dataset de deteccion de fraude a lo cual nos servira para motrar las fortalezas y debilidades del algoritmo"
      ],
      "metadata": {
        "id": "708TiAtYGlm5"
      }
    },
    {
      "cell_type": "markdown",
      "source": [
        "##Importación de las librerias necesarias\n",
        "Aqui ire importando todas las librerias que requiera a lo largo de este notebook, por el momento estaran las basicas e ire añadiendo más"
      ],
      "metadata": {
        "id": "Okh73Iw_K94I"
      }
    },
    {
      "cell_type": "code",
      "execution_count": 1,
      "metadata": {
        "id": "oHdGcd3lGYTH",
        "colab": {
          "base_uri": "https://localhost:8080/"
        },
        "outputId": "0754a61c-7bc8-433c-e0b2-3fa8553df697"
      },
      "outputs": [
        {
          "output_type": "stream",
          "name": "stdout",
          "text": [
            "Collecting opendatasets\n",
            "  Downloading opendatasets-0.1.22-py3-none-any.whl (15 kB)\n",
            "Requirement already satisfied: tqdm in /usr/local/lib/python3.10/dist-packages (from opendatasets) (4.66.2)\n",
            "Requirement already satisfied: kaggle in /usr/local/lib/python3.10/dist-packages (from opendatasets) (1.5.16)\n",
            "Requirement already satisfied: click in /usr/local/lib/python3.10/dist-packages (from opendatasets) (8.1.7)\n",
            "Requirement already satisfied: six>=1.10 in /usr/local/lib/python3.10/dist-packages (from kaggle->opendatasets) (1.16.0)\n",
            "Requirement already satisfied: certifi in /usr/local/lib/python3.10/dist-packages (from kaggle->opendatasets) (2024.2.2)\n",
            "Requirement already satisfied: python-dateutil in /usr/local/lib/python3.10/dist-packages (from kaggle->opendatasets) (2.8.2)\n",
            "Requirement already satisfied: requests in /usr/local/lib/python3.10/dist-packages (from kaggle->opendatasets) (2.31.0)\n",
            "Requirement already satisfied: python-slugify in /usr/local/lib/python3.10/dist-packages (from kaggle->opendatasets) (8.0.4)\n",
            "Requirement already satisfied: urllib3 in /usr/local/lib/python3.10/dist-packages (from kaggle->opendatasets) (2.0.7)\n",
            "Requirement already satisfied: bleach in /usr/local/lib/python3.10/dist-packages (from kaggle->opendatasets) (6.1.0)\n",
            "Requirement already satisfied: webencodings in /usr/local/lib/python3.10/dist-packages (from bleach->kaggle->opendatasets) (0.5.1)\n",
            "Requirement already satisfied: text-unidecode>=1.3 in /usr/local/lib/python3.10/dist-packages (from python-slugify->kaggle->opendatasets) (1.3)\n",
            "Requirement already satisfied: charset-normalizer<4,>=2 in /usr/local/lib/python3.10/dist-packages (from requests->kaggle->opendatasets) (3.3.2)\n",
            "Requirement already satisfied: idna<4,>=2.5 in /usr/local/lib/python3.10/dist-packages (from requests->kaggle->opendatasets) (3.6)\n",
            "Installing collected packages: opendatasets\n",
            "Successfully installed opendatasets-0.1.22\n"
          ]
        }
      ],
      "source": [
        "!pip install opendatasets\n",
        "import opendatasets as od\n",
        "import seaborn as sns\n",
        "import matplotlib.pyplot as plt\n",
        "import pandas as pd\n",
        "import numpy as np\n",
        "import os"
      ]
    },
    {
      "cell_type": "markdown",
      "source": [
        "#Dataset\n",
        "Para este caso como comente trabajaremos con un datset llamado \"Fraudulent Transaction Detection\" donde a base de este dataset detectaremos si una transacción es fraudulenta o no, y es uno de los primeros datsets con una buena cantidad de datos."
      ],
      "metadata": {
        "id": "uMbSSc3iM-SE"
      }
    },
    {
      "cell_type": "markdown",
      "source": [
        "##Vocabulario del dataset\n",
        "* TRANSACTION_ID = Unique identifier for the transaction\n",
        "* TX_DATETIME = Date and time at which the transaction occurs\n",
        "* CUSTOMER_ID = Unique identifier for the customer\n",
        "* TERMINAL_ID = Unique identifier for the terminal through which transaction took place\n",
        "* TX_AMOUNT = Amount of Transaction\n",
        "* X_TIME_SECONDS = Seconds elapsed before the transaction\n",
        "* TX_TIME_DAYS = Seconds elapsed before the transaction\n",
        "* TX_FRAUD = A binary variable, with the value 0 for a legitimate transaction, or the value 1 for a fraudulent transaction.\n",
        "* TX_FRAUD_SCENARIO = A ternary variable depicting different fraudulent scenarios\n",
        "\n"
      ],
      "metadata": {
        "id": "gWFW4INbSWv_"
      }
    },
    {
      "cell_type": "code",
      "source": [
        "datasetlink = \"https://www.kaggle.com/datasets/sanskar457/fraud-transaction-detection\"\n",
        "od.download(datasetlink)"
      ],
      "metadata": {
        "colab": {
          "base_uri": "https://localhost:8080/"
        },
        "id": "aVu6-DImMdAt",
        "outputId": "0153e509-2072-4b22-ffd7-b7f10fba4b28"
      },
      "execution_count": 2,
      "outputs": [
        {
          "output_type": "stream",
          "name": "stdout",
          "text": [
            "Please provide your Kaggle credentials to download this dataset. Learn more: http://bit.ly/kaggle-creds\n",
            "Your Kaggle username: kidkeozz\n",
            "Your Kaggle Key: ··········\n",
            "Downloading fraud-transaction-detection.zip to ./fraud-transaction-detection\n"
          ]
        },
        {
          "output_type": "stream",
          "name": "stderr",
          "text": [
            "100%|██████████| 34.0M/34.0M [00:00<00:00, 66.5MB/s]\n"
          ]
        },
        {
          "output_type": "stream",
          "name": "stdout",
          "text": [
            "\n"
          ]
        }
      ]
    },
    {
      "cell_type": "code",
      "source": [
        "os.chdir(\"fraud-transaction-detection\")\n",
        "os.listdir()"
      ],
      "metadata": {
        "colab": {
          "base_uri": "https://localhost:8080/"
        },
        "id": "JwK-W8PYMf9Y",
        "outputId": "b1e3bf25-3251-4ac0-afc1-d9665bc5912f"
      },
      "execution_count": 3,
      "outputs": [
        {
          "output_type": "execute_result",
          "data": {
            "text/plain": [
              "['Final Transactions.csv']"
            ]
          },
          "metadata": {},
          "execution_count": 3
        }
      ]
    },
    {
      "cell_type": "code",
      "source": [
        "#Damos un primer vistazo a los datos\n",
        "archivo = 'Final Transactions.csv'\n",
        "df = pd.read_csv(archivo)\n",
        "df.head()"
      ],
      "metadata": {
        "colab": {
          "base_uri": "https://localhost:8080/",
          "height": 206
        },
        "id": "Tbq0xVKlMivn",
        "outputId": "8d4af973-545e-4f20-a28b-efb697f03a3d"
      },
      "execution_count": 54,
      "outputs": [
        {
          "output_type": "execute_result",
          "data": {
            "text/plain": [
              "   Unnamed: 0  TRANSACTION_ID          TX_DATETIME  CUSTOMER_ID  TERMINAL_ID  \\\n",
              "0           0               0  2023-01-01 00:00:31          596         3156   \n",
              "1           1               1  2023-01-01 00:02:10         4961         3412   \n",
              "2           2               2  2023-01-01 00:07:56            2         1365   \n",
              "3           3               3  2023-01-01 00:09:29         4128         8737   \n",
              "4           4               4  2023-01-01 00:10:34          927         9906   \n",
              "\n",
              "   TX_AMOUNT  TX_TIME_SECONDS  TX_TIME_DAYS  TX_FRAUD  TX_FRAUD_SCENARIO  \n",
              "0     533.07               31             0         0                  0  \n",
              "1     808.56              130             0         0                  0  \n",
              "2    1442.94              476             0         1                  1  \n",
              "3     620.65              569             0         0                  0  \n",
              "4     490.66              634             0         0                  0  "
            ],
            "text/html": [
              "\n",
              "  <div id=\"df-7941fb31-68e8-401e-a165-26e949f115a8\" class=\"colab-df-container\">\n",
              "    <div>\n",
              "<style scoped>\n",
              "    .dataframe tbody tr th:only-of-type {\n",
              "        vertical-align: middle;\n",
              "    }\n",
              "\n",
              "    .dataframe tbody tr th {\n",
              "        vertical-align: top;\n",
              "    }\n",
              "\n",
              "    .dataframe thead th {\n",
              "        text-align: right;\n",
              "    }\n",
              "</style>\n",
              "<table border=\"1\" class=\"dataframe\">\n",
              "  <thead>\n",
              "    <tr style=\"text-align: right;\">\n",
              "      <th></th>\n",
              "      <th>Unnamed: 0</th>\n",
              "      <th>TRANSACTION_ID</th>\n",
              "      <th>TX_DATETIME</th>\n",
              "      <th>CUSTOMER_ID</th>\n",
              "      <th>TERMINAL_ID</th>\n",
              "      <th>TX_AMOUNT</th>\n",
              "      <th>TX_TIME_SECONDS</th>\n",
              "      <th>TX_TIME_DAYS</th>\n",
              "      <th>TX_FRAUD</th>\n",
              "      <th>TX_FRAUD_SCENARIO</th>\n",
              "    </tr>\n",
              "  </thead>\n",
              "  <tbody>\n",
              "    <tr>\n",
              "      <th>0</th>\n",
              "      <td>0</td>\n",
              "      <td>0</td>\n",
              "      <td>2023-01-01 00:00:31</td>\n",
              "      <td>596</td>\n",
              "      <td>3156</td>\n",
              "      <td>533.07</td>\n",
              "      <td>31</td>\n",
              "      <td>0</td>\n",
              "      <td>0</td>\n",
              "      <td>0</td>\n",
              "    </tr>\n",
              "    <tr>\n",
              "      <th>1</th>\n",
              "      <td>1</td>\n",
              "      <td>1</td>\n",
              "      <td>2023-01-01 00:02:10</td>\n",
              "      <td>4961</td>\n",
              "      <td>3412</td>\n",
              "      <td>808.56</td>\n",
              "      <td>130</td>\n",
              "      <td>0</td>\n",
              "      <td>0</td>\n",
              "      <td>0</td>\n",
              "    </tr>\n",
              "    <tr>\n",
              "      <th>2</th>\n",
              "      <td>2</td>\n",
              "      <td>2</td>\n",
              "      <td>2023-01-01 00:07:56</td>\n",
              "      <td>2</td>\n",
              "      <td>1365</td>\n",
              "      <td>1442.94</td>\n",
              "      <td>476</td>\n",
              "      <td>0</td>\n",
              "      <td>1</td>\n",
              "      <td>1</td>\n",
              "    </tr>\n",
              "    <tr>\n",
              "      <th>3</th>\n",
              "      <td>3</td>\n",
              "      <td>3</td>\n",
              "      <td>2023-01-01 00:09:29</td>\n",
              "      <td>4128</td>\n",
              "      <td>8737</td>\n",
              "      <td>620.65</td>\n",
              "      <td>569</td>\n",
              "      <td>0</td>\n",
              "      <td>0</td>\n",
              "      <td>0</td>\n",
              "    </tr>\n",
              "    <tr>\n",
              "      <th>4</th>\n",
              "      <td>4</td>\n",
              "      <td>4</td>\n",
              "      <td>2023-01-01 00:10:34</td>\n",
              "      <td>927</td>\n",
              "      <td>9906</td>\n",
              "      <td>490.66</td>\n",
              "      <td>634</td>\n",
              "      <td>0</td>\n",
              "      <td>0</td>\n",
              "      <td>0</td>\n",
              "    </tr>\n",
              "  </tbody>\n",
              "</table>\n",
              "</div>\n",
              "    <div class=\"colab-df-buttons\">\n",
              "\n",
              "  <div class=\"colab-df-container\">\n",
              "    <button class=\"colab-df-convert\" onclick=\"convertToInteractive('df-7941fb31-68e8-401e-a165-26e949f115a8')\"\n",
              "            title=\"Convert this dataframe to an interactive table.\"\n",
              "            style=\"display:none;\">\n",
              "\n",
              "  <svg xmlns=\"http://www.w3.org/2000/svg\" height=\"24px\" viewBox=\"0 -960 960 960\">\n",
              "    <path d=\"M120-120v-720h720v720H120Zm60-500h600v-160H180v160Zm220 220h160v-160H400v160Zm0 220h160v-160H400v160ZM180-400h160v-160H180v160Zm440 0h160v-160H620v160ZM180-180h160v-160H180v160Zm440 0h160v-160H620v160Z\"/>\n",
              "  </svg>\n",
              "    </button>\n",
              "\n",
              "  <style>\n",
              "    .colab-df-container {\n",
              "      display:flex;\n",
              "      gap: 12px;\n",
              "    }\n",
              "\n",
              "    .colab-df-convert {\n",
              "      background-color: #E8F0FE;\n",
              "      border: none;\n",
              "      border-radius: 50%;\n",
              "      cursor: pointer;\n",
              "      display: none;\n",
              "      fill: #1967D2;\n",
              "      height: 32px;\n",
              "      padding: 0 0 0 0;\n",
              "      width: 32px;\n",
              "    }\n",
              "\n",
              "    .colab-df-convert:hover {\n",
              "      background-color: #E2EBFA;\n",
              "      box-shadow: 0px 1px 2px rgba(60, 64, 67, 0.3), 0px 1px 3px 1px rgba(60, 64, 67, 0.15);\n",
              "      fill: #174EA6;\n",
              "    }\n",
              "\n",
              "    .colab-df-buttons div {\n",
              "      margin-bottom: 4px;\n",
              "    }\n",
              "\n",
              "    [theme=dark] .colab-df-convert {\n",
              "      background-color: #3B4455;\n",
              "      fill: #D2E3FC;\n",
              "    }\n",
              "\n",
              "    [theme=dark] .colab-df-convert:hover {\n",
              "      background-color: #434B5C;\n",
              "      box-shadow: 0px 1px 3px 1px rgba(0, 0, 0, 0.15);\n",
              "      filter: drop-shadow(0px 1px 2px rgba(0, 0, 0, 0.3));\n",
              "      fill: #FFFFFF;\n",
              "    }\n",
              "  </style>\n",
              "\n",
              "    <script>\n",
              "      const buttonEl =\n",
              "        document.querySelector('#df-7941fb31-68e8-401e-a165-26e949f115a8 button.colab-df-convert');\n",
              "      buttonEl.style.display =\n",
              "        google.colab.kernel.accessAllowed ? 'block' : 'none';\n",
              "\n",
              "      async function convertToInteractive(key) {\n",
              "        const element = document.querySelector('#df-7941fb31-68e8-401e-a165-26e949f115a8');\n",
              "        const dataTable =\n",
              "          await google.colab.kernel.invokeFunction('convertToInteractive',\n",
              "                                                    [key], {});\n",
              "        if (!dataTable) return;\n",
              "\n",
              "        const docLinkHtml = 'Like what you see? Visit the ' +\n",
              "          '<a target=\"_blank\" href=https://colab.research.google.com/notebooks/data_table.ipynb>data table notebook</a>'\n",
              "          + ' to learn more about interactive tables.';\n",
              "        element.innerHTML = '';\n",
              "        dataTable['output_type'] = 'display_data';\n",
              "        await google.colab.output.renderOutput(dataTable, element);\n",
              "        const docLink = document.createElement('div');\n",
              "        docLink.innerHTML = docLinkHtml;\n",
              "        element.appendChild(docLink);\n",
              "      }\n",
              "    </script>\n",
              "  </div>\n",
              "\n",
              "\n",
              "<div id=\"df-bfe4d166-d16d-4029-a743-259524edb935\">\n",
              "  <button class=\"colab-df-quickchart\" onclick=\"quickchart('df-bfe4d166-d16d-4029-a743-259524edb935')\"\n",
              "            title=\"Suggest charts\"\n",
              "            style=\"display:none;\">\n",
              "\n",
              "<svg xmlns=\"http://www.w3.org/2000/svg\" height=\"24px\"viewBox=\"0 0 24 24\"\n",
              "     width=\"24px\">\n",
              "    <g>\n",
              "        <path d=\"M19 3H5c-1.1 0-2 .9-2 2v14c0 1.1.9 2 2 2h14c1.1 0 2-.9 2-2V5c0-1.1-.9-2-2-2zM9 17H7v-7h2v7zm4 0h-2V7h2v10zm4 0h-2v-4h2v4z\"/>\n",
              "    </g>\n",
              "</svg>\n",
              "  </button>\n",
              "\n",
              "<style>\n",
              "  .colab-df-quickchart {\n",
              "      --bg-color: #E8F0FE;\n",
              "      --fill-color: #1967D2;\n",
              "      --hover-bg-color: #E2EBFA;\n",
              "      --hover-fill-color: #174EA6;\n",
              "      --disabled-fill-color: #AAA;\n",
              "      --disabled-bg-color: #DDD;\n",
              "  }\n",
              "\n",
              "  [theme=dark] .colab-df-quickchart {\n",
              "      --bg-color: #3B4455;\n",
              "      --fill-color: #D2E3FC;\n",
              "      --hover-bg-color: #434B5C;\n",
              "      --hover-fill-color: #FFFFFF;\n",
              "      --disabled-bg-color: #3B4455;\n",
              "      --disabled-fill-color: #666;\n",
              "  }\n",
              "\n",
              "  .colab-df-quickchart {\n",
              "    background-color: var(--bg-color);\n",
              "    border: none;\n",
              "    border-radius: 50%;\n",
              "    cursor: pointer;\n",
              "    display: none;\n",
              "    fill: var(--fill-color);\n",
              "    height: 32px;\n",
              "    padding: 0;\n",
              "    width: 32px;\n",
              "  }\n",
              "\n",
              "  .colab-df-quickchart:hover {\n",
              "    background-color: var(--hover-bg-color);\n",
              "    box-shadow: 0 1px 2px rgba(60, 64, 67, 0.3), 0 1px 3px 1px rgba(60, 64, 67, 0.15);\n",
              "    fill: var(--button-hover-fill-color);\n",
              "  }\n",
              "\n",
              "  .colab-df-quickchart-complete:disabled,\n",
              "  .colab-df-quickchart-complete:disabled:hover {\n",
              "    background-color: var(--disabled-bg-color);\n",
              "    fill: var(--disabled-fill-color);\n",
              "    box-shadow: none;\n",
              "  }\n",
              "\n",
              "  .colab-df-spinner {\n",
              "    border: 2px solid var(--fill-color);\n",
              "    border-color: transparent;\n",
              "    border-bottom-color: var(--fill-color);\n",
              "    animation:\n",
              "      spin 1s steps(1) infinite;\n",
              "  }\n",
              "\n",
              "  @keyframes spin {\n",
              "    0% {\n",
              "      border-color: transparent;\n",
              "      border-bottom-color: var(--fill-color);\n",
              "      border-left-color: var(--fill-color);\n",
              "    }\n",
              "    20% {\n",
              "      border-color: transparent;\n",
              "      border-left-color: var(--fill-color);\n",
              "      border-top-color: var(--fill-color);\n",
              "    }\n",
              "    30% {\n",
              "      border-color: transparent;\n",
              "      border-left-color: var(--fill-color);\n",
              "      border-top-color: var(--fill-color);\n",
              "      border-right-color: var(--fill-color);\n",
              "    }\n",
              "    40% {\n",
              "      border-color: transparent;\n",
              "      border-right-color: var(--fill-color);\n",
              "      border-top-color: var(--fill-color);\n",
              "    }\n",
              "    60% {\n",
              "      border-color: transparent;\n",
              "      border-right-color: var(--fill-color);\n",
              "    }\n",
              "    80% {\n",
              "      border-color: transparent;\n",
              "      border-right-color: var(--fill-color);\n",
              "      border-bottom-color: var(--fill-color);\n",
              "    }\n",
              "    90% {\n",
              "      border-color: transparent;\n",
              "      border-bottom-color: var(--fill-color);\n",
              "    }\n",
              "  }\n",
              "</style>\n",
              "\n",
              "  <script>\n",
              "    async function quickchart(key) {\n",
              "      const quickchartButtonEl =\n",
              "        document.querySelector('#' + key + ' button');\n",
              "      quickchartButtonEl.disabled = true;  // To prevent multiple clicks.\n",
              "      quickchartButtonEl.classList.add('colab-df-spinner');\n",
              "      try {\n",
              "        const charts = await google.colab.kernel.invokeFunction(\n",
              "            'suggestCharts', [key], {});\n",
              "      } catch (error) {\n",
              "        console.error('Error during call to suggestCharts:', error);\n",
              "      }\n",
              "      quickchartButtonEl.classList.remove('colab-df-spinner');\n",
              "      quickchartButtonEl.classList.add('colab-df-quickchart-complete');\n",
              "    }\n",
              "    (() => {\n",
              "      let quickchartButtonEl =\n",
              "        document.querySelector('#df-bfe4d166-d16d-4029-a743-259524edb935 button');\n",
              "      quickchartButtonEl.style.display =\n",
              "        google.colab.kernel.accessAllowed ? 'block' : 'none';\n",
              "    })();\n",
              "  </script>\n",
              "</div>\n",
              "\n",
              "    </div>\n",
              "  </div>\n"
            ],
            "application/vnd.google.colaboratory.intrinsic+json": {
              "type": "dataframe",
              "variable_name": "df"
            }
          },
          "metadata": {},
          "execution_count": 54
        }
      ]
    },
    {
      "cell_type": "code",
      "source": [
        "#dimension del dataset cuenta con 1754155 datos y 10 columnas\n",
        "df.shape"
      ],
      "metadata": {
        "colab": {
          "base_uri": "https://localhost:8080/"
        },
        "id": "Vq91AcevOLNs",
        "outputId": "4683c3bb-b9be-414c-df7e-ec06e3537f5c"
      },
      "execution_count": 55,
      "outputs": [
        {
          "output_type": "execute_result",
          "data": {
            "text/plain": [
              "(1754155, 10)"
            ]
          },
          "metadata": {},
          "execution_count": 55
        }
      ]
    },
    {
      "cell_type": "code",
      "source": [
        "#Obtenemos más información acerca de la estructura del dataset\n",
        "df.info()"
      ],
      "metadata": {
        "colab": {
          "base_uri": "https://localhost:8080/"
        },
        "id": "tRrADUWmO693",
        "outputId": "26e6055f-e1b4-4d17-bffa-e1546235b0ef"
      },
      "execution_count": 56,
      "outputs": [
        {
          "output_type": "stream",
          "name": "stdout",
          "text": [
            "<class 'pandas.core.frame.DataFrame'>\n",
            "RangeIndex: 1754155 entries, 0 to 1754154\n",
            "Data columns (total 10 columns):\n",
            " #   Column             Dtype  \n",
            "---  ------             -----  \n",
            " 0   Unnamed: 0         int64  \n",
            " 1   TRANSACTION_ID     int64  \n",
            " 2   TX_DATETIME        object \n",
            " 3   CUSTOMER_ID        int64  \n",
            " 4   TERMINAL_ID        int64  \n",
            " 5   TX_AMOUNT          float64\n",
            " 6   TX_TIME_SECONDS    int64  \n",
            " 7   TX_TIME_DAYS       int64  \n",
            " 8   TX_FRAUD           int64  \n",
            " 9   TX_FRAUD_SCENARIO  int64  \n",
            "dtypes: float64(1), int64(8), object(1)\n",
            "memory usage: 133.8+ MB\n"
          ]
        }
      ]
    },
    {
      "cell_type": "code",
      "source": [
        "df.describe()"
      ],
      "metadata": {
        "colab": {
          "base_uri": "https://localhost:8080/",
          "height": 300
        },
        "id": "DDPEIzgEPqMc",
        "outputId": "0d2ef38e-9827-4863-d72e-a24cacc41f2a"
      },
      "execution_count": 57,
      "outputs": [
        {
          "output_type": "execute_result",
          "data": {
            "text/plain": [
              "         Unnamed: 0  TRANSACTION_ID   CUSTOMER_ID   TERMINAL_ID     TX_AMOUNT  \\\n",
              "count  1.754155e+06    1.754155e+06  1.754155e+06  1.754155e+06  1.754155e+06   \n",
              "mean   8.770770e+05    8.770770e+05  2.504011e+03  4.996733e+03  5.396820e+02   \n",
              "std    5.063811e+05    5.063811e+05  1.445987e+03  2.886101e+03  1.179711e+03   \n",
              "min    0.000000e+00    0.000000e+00  0.000000e+00  0.000000e+00  0.000000e+00   \n",
              "25%    4.385385e+05    4.385385e+05  1.252000e+03  2.502000e+03  1.799500e+02   \n",
              "50%    8.770770e+05    8.770770e+05  2.506000e+03  4.994000e+03  4.217500e+02   \n",
              "75%    1.315616e+06    1.315616e+06  3.765000e+03  7.495000e+03  7.505950e+02   \n",
              "max    1.754154e+06    1.754154e+06  4.999000e+03  9.999000e+03  6.478375e+05   \n",
              "\n",
              "       TX_TIME_SECONDS  TX_TIME_DAYS      TX_FRAUD  TX_FRAUD_SCENARIO  \n",
              "count     1.754155e+06  1.754155e+06  1.754155e+06       1.754155e+06  \n",
              "mean      7.903234e+06  9.097260e+01  1.345200e-01       1.449746e-01  \n",
              "std       4.565172e+06  5.283709e+01  3.412103e-01       3.874872e-01  \n",
              "min       3.100000e+01  0.000000e+00  0.000000e+00       0.000000e+00  \n",
              "25%       3.940846e+06  4.500000e+01  0.000000e+00       0.000000e+00  \n",
              "50%       7.902670e+06  9.100000e+01  0.000000e+00       0.000000e+00  \n",
              "75%       1.186566e+07  1.370000e+02  0.000000e+00       0.000000e+00  \n",
              "max       1.581120e+07  1.820000e+02  1.000000e+00       3.000000e+00  "
            ],
            "text/html": [
              "\n",
              "  <div id=\"df-aae9f445-de98-4e55-9b15-50da4144ba48\" class=\"colab-df-container\">\n",
              "    <div>\n",
              "<style scoped>\n",
              "    .dataframe tbody tr th:only-of-type {\n",
              "        vertical-align: middle;\n",
              "    }\n",
              "\n",
              "    .dataframe tbody tr th {\n",
              "        vertical-align: top;\n",
              "    }\n",
              "\n",
              "    .dataframe thead th {\n",
              "        text-align: right;\n",
              "    }\n",
              "</style>\n",
              "<table border=\"1\" class=\"dataframe\">\n",
              "  <thead>\n",
              "    <tr style=\"text-align: right;\">\n",
              "      <th></th>\n",
              "      <th>Unnamed: 0</th>\n",
              "      <th>TRANSACTION_ID</th>\n",
              "      <th>CUSTOMER_ID</th>\n",
              "      <th>TERMINAL_ID</th>\n",
              "      <th>TX_AMOUNT</th>\n",
              "      <th>TX_TIME_SECONDS</th>\n",
              "      <th>TX_TIME_DAYS</th>\n",
              "      <th>TX_FRAUD</th>\n",
              "      <th>TX_FRAUD_SCENARIO</th>\n",
              "    </tr>\n",
              "  </thead>\n",
              "  <tbody>\n",
              "    <tr>\n",
              "      <th>count</th>\n",
              "      <td>1.754155e+06</td>\n",
              "      <td>1.754155e+06</td>\n",
              "      <td>1.754155e+06</td>\n",
              "      <td>1.754155e+06</td>\n",
              "      <td>1.754155e+06</td>\n",
              "      <td>1.754155e+06</td>\n",
              "      <td>1.754155e+06</td>\n",
              "      <td>1.754155e+06</td>\n",
              "      <td>1.754155e+06</td>\n",
              "    </tr>\n",
              "    <tr>\n",
              "      <th>mean</th>\n",
              "      <td>8.770770e+05</td>\n",
              "      <td>8.770770e+05</td>\n",
              "      <td>2.504011e+03</td>\n",
              "      <td>4.996733e+03</td>\n",
              "      <td>5.396820e+02</td>\n",
              "      <td>7.903234e+06</td>\n",
              "      <td>9.097260e+01</td>\n",
              "      <td>1.345200e-01</td>\n",
              "      <td>1.449746e-01</td>\n",
              "    </tr>\n",
              "    <tr>\n",
              "      <th>std</th>\n",
              "      <td>5.063811e+05</td>\n",
              "      <td>5.063811e+05</td>\n",
              "      <td>1.445987e+03</td>\n",
              "      <td>2.886101e+03</td>\n",
              "      <td>1.179711e+03</td>\n",
              "      <td>4.565172e+06</td>\n",
              "      <td>5.283709e+01</td>\n",
              "      <td>3.412103e-01</td>\n",
              "      <td>3.874872e-01</td>\n",
              "    </tr>\n",
              "    <tr>\n",
              "      <th>min</th>\n",
              "      <td>0.000000e+00</td>\n",
              "      <td>0.000000e+00</td>\n",
              "      <td>0.000000e+00</td>\n",
              "      <td>0.000000e+00</td>\n",
              "      <td>0.000000e+00</td>\n",
              "      <td>3.100000e+01</td>\n",
              "      <td>0.000000e+00</td>\n",
              "      <td>0.000000e+00</td>\n",
              "      <td>0.000000e+00</td>\n",
              "    </tr>\n",
              "    <tr>\n",
              "      <th>25%</th>\n",
              "      <td>4.385385e+05</td>\n",
              "      <td>4.385385e+05</td>\n",
              "      <td>1.252000e+03</td>\n",
              "      <td>2.502000e+03</td>\n",
              "      <td>1.799500e+02</td>\n",
              "      <td>3.940846e+06</td>\n",
              "      <td>4.500000e+01</td>\n",
              "      <td>0.000000e+00</td>\n",
              "      <td>0.000000e+00</td>\n",
              "    </tr>\n",
              "    <tr>\n",
              "      <th>50%</th>\n",
              "      <td>8.770770e+05</td>\n",
              "      <td>8.770770e+05</td>\n",
              "      <td>2.506000e+03</td>\n",
              "      <td>4.994000e+03</td>\n",
              "      <td>4.217500e+02</td>\n",
              "      <td>7.902670e+06</td>\n",
              "      <td>9.100000e+01</td>\n",
              "      <td>0.000000e+00</td>\n",
              "      <td>0.000000e+00</td>\n",
              "    </tr>\n",
              "    <tr>\n",
              "      <th>75%</th>\n",
              "      <td>1.315616e+06</td>\n",
              "      <td>1.315616e+06</td>\n",
              "      <td>3.765000e+03</td>\n",
              "      <td>7.495000e+03</td>\n",
              "      <td>7.505950e+02</td>\n",
              "      <td>1.186566e+07</td>\n",
              "      <td>1.370000e+02</td>\n",
              "      <td>0.000000e+00</td>\n",
              "      <td>0.000000e+00</td>\n",
              "    </tr>\n",
              "    <tr>\n",
              "      <th>max</th>\n",
              "      <td>1.754154e+06</td>\n",
              "      <td>1.754154e+06</td>\n",
              "      <td>4.999000e+03</td>\n",
              "      <td>9.999000e+03</td>\n",
              "      <td>6.478375e+05</td>\n",
              "      <td>1.581120e+07</td>\n",
              "      <td>1.820000e+02</td>\n",
              "      <td>1.000000e+00</td>\n",
              "      <td>3.000000e+00</td>\n",
              "    </tr>\n",
              "  </tbody>\n",
              "</table>\n",
              "</div>\n",
              "    <div class=\"colab-df-buttons\">\n",
              "\n",
              "  <div class=\"colab-df-container\">\n",
              "    <button class=\"colab-df-convert\" onclick=\"convertToInteractive('df-aae9f445-de98-4e55-9b15-50da4144ba48')\"\n",
              "            title=\"Convert this dataframe to an interactive table.\"\n",
              "            style=\"display:none;\">\n",
              "\n",
              "  <svg xmlns=\"http://www.w3.org/2000/svg\" height=\"24px\" viewBox=\"0 -960 960 960\">\n",
              "    <path d=\"M120-120v-720h720v720H120Zm60-500h600v-160H180v160Zm220 220h160v-160H400v160Zm0 220h160v-160H400v160ZM180-400h160v-160H180v160Zm440 0h160v-160H620v160ZM180-180h160v-160H180v160Zm440 0h160v-160H620v160Z\"/>\n",
              "  </svg>\n",
              "    </button>\n",
              "\n",
              "  <style>\n",
              "    .colab-df-container {\n",
              "      display:flex;\n",
              "      gap: 12px;\n",
              "    }\n",
              "\n",
              "    .colab-df-convert {\n",
              "      background-color: #E8F0FE;\n",
              "      border: none;\n",
              "      border-radius: 50%;\n",
              "      cursor: pointer;\n",
              "      display: none;\n",
              "      fill: #1967D2;\n",
              "      height: 32px;\n",
              "      padding: 0 0 0 0;\n",
              "      width: 32px;\n",
              "    }\n",
              "\n",
              "    .colab-df-convert:hover {\n",
              "      background-color: #E2EBFA;\n",
              "      box-shadow: 0px 1px 2px rgba(60, 64, 67, 0.3), 0px 1px 3px 1px rgba(60, 64, 67, 0.15);\n",
              "      fill: #174EA6;\n",
              "    }\n",
              "\n",
              "    .colab-df-buttons div {\n",
              "      margin-bottom: 4px;\n",
              "    }\n",
              "\n",
              "    [theme=dark] .colab-df-convert {\n",
              "      background-color: #3B4455;\n",
              "      fill: #D2E3FC;\n",
              "    }\n",
              "\n",
              "    [theme=dark] .colab-df-convert:hover {\n",
              "      background-color: #434B5C;\n",
              "      box-shadow: 0px 1px 3px 1px rgba(0, 0, 0, 0.15);\n",
              "      filter: drop-shadow(0px 1px 2px rgba(0, 0, 0, 0.3));\n",
              "      fill: #FFFFFF;\n",
              "    }\n",
              "  </style>\n",
              "\n",
              "    <script>\n",
              "      const buttonEl =\n",
              "        document.querySelector('#df-aae9f445-de98-4e55-9b15-50da4144ba48 button.colab-df-convert');\n",
              "      buttonEl.style.display =\n",
              "        google.colab.kernel.accessAllowed ? 'block' : 'none';\n",
              "\n",
              "      async function convertToInteractive(key) {\n",
              "        const element = document.querySelector('#df-aae9f445-de98-4e55-9b15-50da4144ba48');\n",
              "        const dataTable =\n",
              "          await google.colab.kernel.invokeFunction('convertToInteractive',\n",
              "                                                    [key], {});\n",
              "        if (!dataTable) return;\n",
              "\n",
              "        const docLinkHtml = 'Like what you see? Visit the ' +\n",
              "          '<a target=\"_blank\" href=https://colab.research.google.com/notebooks/data_table.ipynb>data table notebook</a>'\n",
              "          + ' to learn more about interactive tables.';\n",
              "        element.innerHTML = '';\n",
              "        dataTable['output_type'] = 'display_data';\n",
              "        await google.colab.output.renderOutput(dataTable, element);\n",
              "        const docLink = document.createElement('div');\n",
              "        docLink.innerHTML = docLinkHtml;\n",
              "        element.appendChild(docLink);\n",
              "      }\n",
              "    </script>\n",
              "  </div>\n",
              "\n",
              "\n",
              "<div id=\"df-db2dbe02-0ab1-4bb5-8a14-192e45d8b144\">\n",
              "  <button class=\"colab-df-quickchart\" onclick=\"quickchart('df-db2dbe02-0ab1-4bb5-8a14-192e45d8b144')\"\n",
              "            title=\"Suggest charts\"\n",
              "            style=\"display:none;\">\n",
              "\n",
              "<svg xmlns=\"http://www.w3.org/2000/svg\" height=\"24px\"viewBox=\"0 0 24 24\"\n",
              "     width=\"24px\">\n",
              "    <g>\n",
              "        <path d=\"M19 3H5c-1.1 0-2 .9-2 2v14c0 1.1.9 2 2 2h14c1.1 0 2-.9 2-2V5c0-1.1-.9-2-2-2zM9 17H7v-7h2v7zm4 0h-2V7h2v10zm4 0h-2v-4h2v4z\"/>\n",
              "    </g>\n",
              "</svg>\n",
              "  </button>\n",
              "\n",
              "<style>\n",
              "  .colab-df-quickchart {\n",
              "      --bg-color: #E8F0FE;\n",
              "      --fill-color: #1967D2;\n",
              "      --hover-bg-color: #E2EBFA;\n",
              "      --hover-fill-color: #174EA6;\n",
              "      --disabled-fill-color: #AAA;\n",
              "      --disabled-bg-color: #DDD;\n",
              "  }\n",
              "\n",
              "  [theme=dark] .colab-df-quickchart {\n",
              "      --bg-color: #3B4455;\n",
              "      --fill-color: #D2E3FC;\n",
              "      --hover-bg-color: #434B5C;\n",
              "      --hover-fill-color: #FFFFFF;\n",
              "      --disabled-bg-color: #3B4455;\n",
              "      --disabled-fill-color: #666;\n",
              "  }\n",
              "\n",
              "  .colab-df-quickchart {\n",
              "    background-color: var(--bg-color);\n",
              "    border: none;\n",
              "    border-radius: 50%;\n",
              "    cursor: pointer;\n",
              "    display: none;\n",
              "    fill: var(--fill-color);\n",
              "    height: 32px;\n",
              "    padding: 0;\n",
              "    width: 32px;\n",
              "  }\n",
              "\n",
              "  .colab-df-quickchart:hover {\n",
              "    background-color: var(--hover-bg-color);\n",
              "    box-shadow: 0 1px 2px rgba(60, 64, 67, 0.3), 0 1px 3px 1px rgba(60, 64, 67, 0.15);\n",
              "    fill: var(--button-hover-fill-color);\n",
              "  }\n",
              "\n",
              "  .colab-df-quickchart-complete:disabled,\n",
              "  .colab-df-quickchart-complete:disabled:hover {\n",
              "    background-color: var(--disabled-bg-color);\n",
              "    fill: var(--disabled-fill-color);\n",
              "    box-shadow: none;\n",
              "  }\n",
              "\n",
              "  .colab-df-spinner {\n",
              "    border: 2px solid var(--fill-color);\n",
              "    border-color: transparent;\n",
              "    border-bottom-color: var(--fill-color);\n",
              "    animation:\n",
              "      spin 1s steps(1) infinite;\n",
              "  }\n",
              "\n",
              "  @keyframes spin {\n",
              "    0% {\n",
              "      border-color: transparent;\n",
              "      border-bottom-color: var(--fill-color);\n",
              "      border-left-color: var(--fill-color);\n",
              "    }\n",
              "    20% {\n",
              "      border-color: transparent;\n",
              "      border-left-color: var(--fill-color);\n",
              "      border-top-color: var(--fill-color);\n",
              "    }\n",
              "    30% {\n",
              "      border-color: transparent;\n",
              "      border-left-color: var(--fill-color);\n",
              "      border-top-color: var(--fill-color);\n",
              "      border-right-color: var(--fill-color);\n",
              "    }\n",
              "    40% {\n",
              "      border-color: transparent;\n",
              "      border-right-color: var(--fill-color);\n",
              "      border-top-color: var(--fill-color);\n",
              "    }\n",
              "    60% {\n",
              "      border-color: transparent;\n",
              "      border-right-color: var(--fill-color);\n",
              "    }\n",
              "    80% {\n",
              "      border-color: transparent;\n",
              "      border-right-color: var(--fill-color);\n",
              "      border-bottom-color: var(--fill-color);\n",
              "    }\n",
              "    90% {\n",
              "      border-color: transparent;\n",
              "      border-bottom-color: var(--fill-color);\n",
              "    }\n",
              "  }\n",
              "</style>\n",
              "\n",
              "  <script>\n",
              "    async function quickchart(key) {\n",
              "      const quickchartButtonEl =\n",
              "        document.querySelector('#' + key + ' button');\n",
              "      quickchartButtonEl.disabled = true;  // To prevent multiple clicks.\n",
              "      quickchartButtonEl.classList.add('colab-df-spinner');\n",
              "      try {\n",
              "        const charts = await google.colab.kernel.invokeFunction(\n",
              "            'suggestCharts', [key], {});\n",
              "      } catch (error) {\n",
              "        console.error('Error during call to suggestCharts:', error);\n",
              "      }\n",
              "      quickchartButtonEl.classList.remove('colab-df-spinner');\n",
              "      quickchartButtonEl.classList.add('colab-df-quickchart-complete');\n",
              "    }\n",
              "    (() => {\n",
              "      let quickchartButtonEl =\n",
              "        document.querySelector('#df-db2dbe02-0ab1-4bb5-8a14-192e45d8b144 button');\n",
              "      quickchartButtonEl.style.display =\n",
              "        google.colab.kernel.accessAllowed ? 'block' : 'none';\n",
              "    })();\n",
              "  </script>\n",
              "</div>\n",
              "\n",
              "    </div>\n",
              "  </div>\n"
            ],
            "application/vnd.google.colaboratory.intrinsic+json": {
              "type": "dataframe",
              "summary": "{\n  \"name\": \"df\",\n  \"rows\": 8,\n  \"fields\": [\n    {\n      \"column\": \"Unnamed: 0\",\n      \"properties\": {\n        \"dtype\": \"number\",\n        \"std\": 632205.7300694485,\n        \"min\": 0.0,\n        \"max\": 1754155.0,\n        \"num_unique_values\": 7,\n        \"samples\": [\n          1754155.0,\n          877077.0,\n          1315615.5\n        ],\n        \"semantic_type\": \"\",\n        \"description\": \"\"\n      }\n    },\n    {\n      \"column\": \"TRANSACTION_ID\",\n      \"properties\": {\n        \"dtype\": \"number\",\n        \"std\": 632205.7300694485,\n        \"min\": 0.0,\n        \"max\": 1754155.0,\n        \"num_unique_values\": 7,\n        \"samples\": [\n          1754155.0,\n          877077.0,\n          1315615.5\n        ],\n        \"semantic_type\": \"\",\n        \"description\": \"\"\n      }\n    },\n    {\n      \"column\": \"CUSTOMER_ID\",\n      \"properties\": {\n        \"dtype\": \"number\",\n        \"std\": 619357.4022249561,\n        \"min\": 0.0,\n        \"max\": 1754155.0,\n        \"num_unique_values\": 8,\n        \"samples\": [\n          2504.0114015010076,\n          2506.0,\n          1754155.0\n        ],\n        \"semantic_type\": \"\",\n        \"description\": \"\"\n      }\n    },\n    {\n      \"column\": \"TERMINAL_ID\",\n      \"properties\": {\n        \"dtype\": \"number\",\n        \"std\": 618534.7728082302,\n        \"min\": 0.0,\n        \"max\": 1754155.0,\n        \"num_unique_values\": 8,\n        \"samples\": [\n          4996.733152999593,\n          4994.0,\n          1754155.0\n        ],\n        \"semantic_type\": \"\",\n        \"description\": \"\"\n      }\n    },\n    {\n      \"column\": \"TX_AMOUNT\",\n      \"properties\": {\n        \"dtype\": \"number\",\n        \"std\": 629479.8225234014,\n        \"min\": 0.0,\n        \"max\": 1754155.0,\n        \"num_unique_values\": 8,\n        \"samples\": [\n          539.681997280742,\n          421.75,\n          1754155.0\n        ],\n        \"semantic_type\": \"\",\n        \"description\": \"\"\n      }\n    },\n    {\n      \"column\": \"TX_TIME_SECONDS\",\n      \"properties\": {\n        \"dtype\": \"number\",\n        \"std\": 5265941.584438856,\n        \"min\": 31.0,\n        \"max\": 15811197.0,\n        \"num_unique_values\": 8,\n        \"samples\": [\n          7903233.708571933,\n          7902670.0,\n          1754155.0\n        ],\n        \"semantic_type\": \"\",\n        \"description\": \"\"\n      }\n    },\n    {\n      \"column\": \"TX_TIME_DAYS\",\n      \"properties\": {\n        \"dtype\": \"number\",\n        \"std\": 620157.2059581093,\n        \"min\": 0.0,\n        \"max\": 1754155.0,\n        \"num_unique_values\": 8,\n        \"samples\": [\n          90.97260276315377,\n          91.0,\n          1754155.0\n        ],\n        \"semantic_type\": \"\",\n        \"description\": \"\"\n      }\n    },\n    {\n      \"column\": \"TX_FRAUD\",\n      \"properties\": {\n        \"dtype\": \"number\",\n        \"std\": 620187.3733406015,\n        \"min\": 0.0,\n        \"max\": 1754155.0,\n        \"num_unique_values\": 5,\n        \"samples\": [\n          0.1345200395632085,\n          1.0,\n          0.34121029423187704\n        ],\n        \"semantic_type\": \"\",\n        \"description\": \"\"\n      }\n    },\n    {\n      \"column\": \"TX_FRAUD_SCENARIO\",\n      \"properties\": {\n        \"dtype\": \"number\",\n        \"std\": 620187.2694607289,\n        \"min\": 0.0,\n        \"max\": 1754155.0,\n        \"num_unique_values\": 5,\n        \"samples\": [\n          0.14497464591213433,\n          3.0,\n          0.3874872015485645\n        ],\n        \"semantic_type\": \"\",\n        \"description\": \"\"\n      }\n    }\n  ]\n}"
            }
          },
          "metadata": {},
          "execution_count": 57
        }
      ]
    },
    {
      "cell_type": "code",
      "source": [
        "#verificamos si tenemos valores nulos\n",
        "df.isnull().sum()"
      ],
      "metadata": {
        "colab": {
          "base_uri": "https://localhost:8080/"
        },
        "id": "nDo6n_UwPx0z",
        "outputId": "dee84052-622b-4543-8edd-e637c0adc9b4"
      },
      "execution_count": 58,
      "outputs": [
        {
          "output_type": "execute_result",
          "data": {
            "text/plain": [
              "Unnamed: 0           0\n",
              "TRANSACTION_ID       0\n",
              "TX_DATETIME          0\n",
              "CUSTOMER_ID          0\n",
              "TERMINAL_ID          0\n",
              "TX_AMOUNT            0\n",
              "TX_TIME_SECONDS      0\n",
              "TX_TIME_DAYS         0\n",
              "TX_FRAUD             0\n",
              "TX_FRAUD_SCENARIO    0\n",
              "dtype: int64"
            ]
          },
          "metadata": {},
          "execution_count": 58
        }
      ]
    },
    {
      "cell_type": "code",
      "source": [
        "df['TRANSACTION_ID'].unique().shape"
      ],
      "metadata": {
        "colab": {
          "base_uri": "https://localhost:8080/"
        },
        "id": "v7jzH2CWKEkc",
        "outputId": "54f1c7f3-5f3c-490e-aaf0-0afe5993843e"
      },
      "execution_count": 59,
      "outputs": [
        {
          "output_type": "execute_result",
          "data": {
            "text/plain": [
              "(1754155,)"
            ]
          },
          "metadata": {},
          "execution_count": 59
        }
      ]
    },
    {
      "cell_type": "markdown",
      "source": [
        "## Eliminamos las primeras columnas que son irrelevantes\n",
        "la primera `Unnamed: 0` esto debido a que esta columna indicaba un indice, lo cual ya tiene por defecto esto lo pudimos evitar declarando bien el dataset sin embargo no nos hace ningun daño eliminar la columna\n",
        "\n",
        "\n"
      ],
      "metadata": {
        "id": "tjqqsHhdRdSD"
      }
    },
    {
      "cell_type": "code",
      "source": [
        "#Eliminamos columnas que creo irrelevantes en el analisis\n",
        "df = df.drop(columns=['Unnamed: 0'])"
      ],
      "metadata": {
        "id": "HmlxU-nfP2fy"
      },
      "execution_count": 60,
      "outputs": []
    },
    {
      "cell_type": "code",
      "source": [
        "df"
      ],
      "metadata": {
        "colab": {
          "base_uri": "https://localhost:8080/",
          "height": 423
        },
        "id": "rmSBvMMfUZZL",
        "outputId": "db744e61-6ba7-4e10-8946-0967cab13447"
      },
      "execution_count": 61,
      "outputs": [
        {
          "output_type": "execute_result",
          "data": {
            "text/plain": [
              "         TRANSACTION_ID          TX_DATETIME  CUSTOMER_ID  TERMINAL_ID  \\\n",
              "0                     0  2023-01-01 00:00:31          596         3156   \n",
              "1                     1  2023-01-01 00:02:10         4961         3412   \n",
              "2                     2  2023-01-01 00:07:56            2         1365   \n",
              "3                     3  2023-01-01 00:09:29         4128         8737   \n",
              "4                     4  2023-01-01 00:10:34          927         9906   \n",
              "...                 ...                  ...          ...          ...   \n",
              "1754150         1754150  2023-07-02 23:56:36          161          655   \n",
              "1754151         1754151  2023-07-02 23:57:38         4342         6181   \n",
              "1754152         1754152  2023-07-02 23:58:21          618         1502   \n",
              "1754153         1754153  2023-07-02 23:59:52         4056         3067   \n",
              "1754154         1754154  2023-07-02 23:59:57         3542         9849   \n",
              "\n",
              "         TX_AMOUNT  TX_TIME_SECONDS  TX_TIME_DAYS  TX_FRAUD  TX_FRAUD_SCENARIO  \n",
              "0           533.07               31             0         0                  0  \n",
              "1           808.56              130             0         0                  0  \n",
              "2          1442.94              476             0         1                  1  \n",
              "3           620.65              569             0         0                  0  \n",
              "4           490.66              634             0         0                  0  \n",
              "...            ...              ...           ...       ...                ...  \n",
              "1754150     531.43         15810996           182         0                  0  \n",
              "1754151      10.40         15811058           182         0                  0  \n",
              "1754152      26.62         15811101           182         0                  0  \n",
              "1754153     550.43         15811192           182         0                  0  \n",
              "1754154     216.57         15811197           182         0                  0  \n",
              "\n",
              "[1754155 rows x 9 columns]"
            ],
            "text/html": [
              "\n",
              "  <div id=\"df-14508452-e287-4b69-8c38-7621cd5fab0a\" class=\"colab-df-container\">\n",
              "    <div>\n",
              "<style scoped>\n",
              "    .dataframe tbody tr th:only-of-type {\n",
              "        vertical-align: middle;\n",
              "    }\n",
              "\n",
              "    .dataframe tbody tr th {\n",
              "        vertical-align: top;\n",
              "    }\n",
              "\n",
              "    .dataframe thead th {\n",
              "        text-align: right;\n",
              "    }\n",
              "</style>\n",
              "<table border=\"1\" class=\"dataframe\">\n",
              "  <thead>\n",
              "    <tr style=\"text-align: right;\">\n",
              "      <th></th>\n",
              "      <th>TRANSACTION_ID</th>\n",
              "      <th>TX_DATETIME</th>\n",
              "      <th>CUSTOMER_ID</th>\n",
              "      <th>TERMINAL_ID</th>\n",
              "      <th>TX_AMOUNT</th>\n",
              "      <th>TX_TIME_SECONDS</th>\n",
              "      <th>TX_TIME_DAYS</th>\n",
              "      <th>TX_FRAUD</th>\n",
              "      <th>TX_FRAUD_SCENARIO</th>\n",
              "    </tr>\n",
              "  </thead>\n",
              "  <tbody>\n",
              "    <tr>\n",
              "      <th>0</th>\n",
              "      <td>0</td>\n",
              "      <td>2023-01-01 00:00:31</td>\n",
              "      <td>596</td>\n",
              "      <td>3156</td>\n",
              "      <td>533.07</td>\n",
              "      <td>31</td>\n",
              "      <td>0</td>\n",
              "      <td>0</td>\n",
              "      <td>0</td>\n",
              "    </tr>\n",
              "    <tr>\n",
              "      <th>1</th>\n",
              "      <td>1</td>\n",
              "      <td>2023-01-01 00:02:10</td>\n",
              "      <td>4961</td>\n",
              "      <td>3412</td>\n",
              "      <td>808.56</td>\n",
              "      <td>130</td>\n",
              "      <td>0</td>\n",
              "      <td>0</td>\n",
              "      <td>0</td>\n",
              "    </tr>\n",
              "    <tr>\n",
              "      <th>2</th>\n",
              "      <td>2</td>\n",
              "      <td>2023-01-01 00:07:56</td>\n",
              "      <td>2</td>\n",
              "      <td>1365</td>\n",
              "      <td>1442.94</td>\n",
              "      <td>476</td>\n",
              "      <td>0</td>\n",
              "      <td>1</td>\n",
              "      <td>1</td>\n",
              "    </tr>\n",
              "    <tr>\n",
              "      <th>3</th>\n",
              "      <td>3</td>\n",
              "      <td>2023-01-01 00:09:29</td>\n",
              "      <td>4128</td>\n",
              "      <td>8737</td>\n",
              "      <td>620.65</td>\n",
              "      <td>569</td>\n",
              "      <td>0</td>\n",
              "      <td>0</td>\n",
              "      <td>0</td>\n",
              "    </tr>\n",
              "    <tr>\n",
              "      <th>4</th>\n",
              "      <td>4</td>\n",
              "      <td>2023-01-01 00:10:34</td>\n",
              "      <td>927</td>\n",
              "      <td>9906</td>\n",
              "      <td>490.66</td>\n",
              "      <td>634</td>\n",
              "      <td>0</td>\n",
              "      <td>0</td>\n",
              "      <td>0</td>\n",
              "    </tr>\n",
              "    <tr>\n",
              "      <th>...</th>\n",
              "      <td>...</td>\n",
              "      <td>...</td>\n",
              "      <td>...</td>\n",
              "      <td>...</td>\n",
              "      <td>...</td>\n",
              "      <td>...</td>\n",
              "      <td>...</td>\n",
              "      <td>...</td>\n",
              "      <td>...</td>\n",
              "    </tr>\n",
              "    <tr>\n",
              "      <th>1754150</th>\n",
              "      <td>1754150</td>\n",
              "      <td>2023-07-02 23:56:36</td>\n",
              "      <td>161</td>\n",
              "      <td>655</td>\n",
              "      <td>531.43</td>\n",
              "      <td>15810996</td>\n",
              "      <td>182</td>\n",
              "      <td>0</td>\n",
              "      <td>0</td>\n",
              "    </tr>\n",
              "    <tr>\n",
              "      <th>1754151</th>\n",
              "      <td>1754151</td>\n",
              "      <td>2023-07-02 23:57:38</td>\n",
              "      <td>4342</td>\n",
              "      <td>6181</td>\n",
              "      <td>10.40</td>\n",
              "      <td>15811058</td>\n",
              "      <td>182</td>\n",
              "      <td>0</td>\n",
              "      <td>0</td>\n",
              "    </tr>\n",
              "    <tr>\n",
              "      <th>1754152</th>\n",
              "      <td>1754152</td>\n",
              "      <td>2023-07-02 23:58:21</td>\n",
              "      <td>618</td>\n",
              "      <td>1502</td>\n",
              "      <td>26.62</td>\n",
              "      <td>15811101</td>\n",
              "      <td>182</td>\n",
              "      <td>0</td>\n",
              "      <td>0</td>\n",
              "    </tr>\n",
              "    <tr>\n",
              "      <th>1754153</th>\n",
              "      <td>1754153</td>\n",
              "      <td>2023-07-02 23:59:52</td>\n",
              "      <td>4056</td>\n",
              "      <td>3067</td>\n",
              "      <td>550.43</td>\n",
              "      <td>15811192</td>\n",
              "      <td>182</td>\n",
              "      <td>0</td>\n",
              "      <td>0</td>\n",
              "    </tr>\n",
              "    <tr>\n",
              "      <th>1754154</th>\n",
              "      <td>1754154</td>\n",
              "      <td>2023-07-02 23:59:57</td>\n",
              "      <td>3542</td>\n",
              "      <td>9849</td>\n",
              "      <td>216.57</td>\n",
              "      <td>15811197</td>\n",
              "      <td>182</td>\n",
              "      <td>0</td>\n",
              "      <td>0</td>\n",
              "    </tr>\n",
              "  </tbody>\n",
              "</table>\n",
              "<p>1754155 rows × 9 columns</p>\n",
              "</div>\n",
              "    <div class=\"colab-df-buttons\">\n",
              "\n",
              "  <div class=\"colab-df-container\">\n",
              "    <button class=\"colab-df-convert\" onclick=\"convertToInteractive('df-14508452-e287-4b69-8c38-7621cd5fab0a')\"\n",
              "            title=\"Convert this dataframe to an interactive table.\"\n",
              "            style=\"display:none;\">\n",
              "\n",
              "  <svg xmlns=\"http://www.w3.org/2000/svg\" height=\"24px\" viewBox=\"0 -960 960 960\">\n",
              "    <path d=\"M120-120v-720h720v720H120Zm60-500h600v-160H180v160Zm220 220h160v-160H400v160Zm0 220h160v-160H400v160ZM180-400h160v-160H180v160Zm440 0h160v-160H620v160ZM180-180h160v-160H180v160Zm440 0h160v-160H620v160Z\"/>\n",
              "  </svg>\n",
              "    </button>\n",
              "\n",
              "  <style>\n",
              "    .colab-df-container {\n",
              "      display:flex;\n",
              "      gap: 12px;\n",
              "    }\n",
              "\n",
              "    .colab-df-convert {\n",
              "      background-color: #E8F0FE;\n",
              "      border: none;\n",
              "      border-radius: 50%;\n",
              "      cursor: pointer;\n",
              "      display: none;\n",
              "      fill: #1967D2;\n",
              "      height: 32px;\n",
              "      padding: 0 0 0 0;\n",
              "      width: 32px;\n",
              "    }\n",
              "\n",
              "    .colab-df-convert:hover {\n",
              "      background-color: #E2EBFA;\n",
              "      box-shadow: 0px 1px 2px rgba(60, 64, 67, 0.3), 0px 1px 3px 1px rgba(60, 64, 67, 0.15);\n",
              "      fill: #174EA6;\n",
              "    }\n",
              "\n",
              "    .colab-df-buttons div {\n",
              "      margin-bottom: 4px;\n",
              "    }\n",
              "\n",
              "    [theme=dark] .colab-df-convert {\n",
              "      background-color: #3B4455;\n",
              "      fill: #D2E3FC;\n",
              "    }\n",
              "\n",
              "    [theme=dark] .colab-df-convert:hover {\n",
              "      background-color: #434B5C;\n",
              "      box-shadow: 0px 1px 3px 1px rgba(0, 0, 0, 0.15);\n",
              "      filter: drop-shadow(0px 1px 2px rgba(0, 0, 0, 0.3));\n",
              "      fill: #FFFFFF;\n",
              "    }\n",
              "  </style>\n",
              "\n",
              "    <script>\n",
              "      const buttonEl =\n",
              "        document.querySelector('#df-14508452-e287-4b69-8c38-7621cd5fab0a button.colab-df-convert');\n",
              "      buttonEl.style.display =\n",
              "        google.colab.kernel.accessAllowed ? 'block' : 'none';\n",
              "\n",
              "      async function convertToInteractive(key) {\n",
              "        const element = document.querySelector('#df-14508452-e287-4b69-8c38-7621cd5fab0a');\n",
              "        const dataTable =\n",
              "          await google.colab.kernel.invokeFunction('convertToInteractive',\n",
              "                                                    [key], {});\n",
              "        if (!dataTable) return;\n",
              "\n",
              "        const docLinkHtml = 'Like what you see? Visit the ' +\n",
              "          '<a target=\"_blank\" href=https://colab.research.google.com/notebooks/data_table.ipynb>data table notebook</a>'\n",
              "          + ' to learn more about interactive tables.';\n",
              "        element.innerHTML = '';\n",
              "        dataTable['output_type'] = 'display_data';\n",
              "        await google.colab.output.renderOutput(dataTable, element);\n",
              "        const docLink = document.createElement('div');\n",
              "        docLink.innerHTML = docLinkHtml;\n",
              "        element.appendChild(docLink);\n",
              "      }\n",
              "    </script>\n",
              "  </div>\n",
              "\n",
              "\n",
              "<div id=\"df-2a285500-b3b6-411b-8f14-9ff972d5c8fa\">\n",
              "  <button class=\"colab-df-quickchart\" onclick=\"quickchart('df-2a285500-b3b6-411b-8f14-9ff972d5c8fa')\"\n",
              "            title=\"Suggest charts\"\n",
              "            style=\"display:none;\">\n",
              "\n",
              "<svg xmlns=\"http://www.w3.org/2000/svg\" height=\"24px\"viewBox=\"0 0 24 24\"\n",
              "     width=\"24px\">\n",
              "    <g>\n",
              "        <path d=\"M19 3H5c-1.1 0-2 .9-2 2v14c0 1.1.9 2 2 2h14c1.1 0 2-.9 2-2V5c0-1.1-.9-2-2-2zM9 17H7v-7h2v7zm4 0h-2V7h2v10zm4 0h-2v-4h2v4z\"/>\n",
              "    </g>\n",
              "</svg>\n",
              "  </button>\n",
              "\n",
              "<style>\n",
              "  .colab-df-quickchart {\n",
              "      --bg-color: #E8F0FE;\n",
              "      --fill-color: #1967D2;\n",
              "      --hover-bg-color: #E2EBFA;\n",
              "      --hover-fill-color: #174EA6;\n",
              "      --disabled-fill-color: #AAA;\n",
              "      --disabled-bg-color: #DDD;\n",
              "  }\n",
              "\n",
              "  [theme=dark] .colab-df-quickchart {\n",
              "      --bg-color: #3B4455;\n",
              "      --fill-color: #D2E3FC;\n",
              "      --hover-bg-color: #434B5C;\n",
              "      --hover-fill-color: #FFFFFF;\n",
              "      --disabled-bg-color: #3B4455;\n",
              "      --disabled-fill-color: #666;\n",
              "  }\n",
              "\n",
              "  .colab-df-quickchart {\n",
              "    background-color: var(--bg-color);\n",
              "    border: none;\n",
              "    border-radius: 50%;\n",
              "    cursor: pointer;\n",
              "    display: none;\n",
              "    fill: var(--fill-color);\n",
              "    height: 32px;\n",
              "    padding: 0;\n",
              "    width: 32px;\n",
              "  }\n",
              "\n",
              "  .colab-df-quickchart:hover {\n",
              "    background-color: var(--hover-bg-color);\n",
              "    box-shadow: 0 1px 2px rgba(60, 64, 67, 0.3), 0 1px 3px 1px rgba(60, 64, 67, 0.15);\n",
              "    fill: var(--button-hover-fill-color);\n",
              "  }\n",
              "\n",
              "  .colab-df-quickchart-complete:disabled,\n",
              "  .colab-df-quickchart-complete:disabled:hover {\n",
              "    background-color: var(--disabled-bg-color);\n",
              "    fill: var(--disabled-fill-color);\n",
              "    box-shadow: none;\n",
              "  }\n",
              "\n",
              "  .colab-df-spinner {\n",
              "    border: 2px solid var(--fill-color);\n",
              "    border-color: transparent;\n",
              "    border-bottom-color: var(--fill-color);\n",
              "    animation:\n",
              "      spin 1s steps(1) infinite;\n",
              "  }\n",
              "\n",
              "  @keyframes spin {\n",
              "    0% {\n",
              "      border-color: transparent;\n",
              "      border-bottom-color: var(--fill-color);\n",
              "      border-left-color: var(--fill-color);\n",
              "    }\n",
              "    20% {\n",
              "      border-color: transparent;\n",
              "      border-left-color: var(--fill-color);\n",
              "      border-top-color: var(--fill-color);\n",
              "    }\n",
              "    30% {\n",
              "      border-color: transparent;\n",
              "      border-left-color: var(--fill-color);\n",
              "      border-top-color: var(--fill-color);\n",
              "      border-right-color: var(--fill-color);\n",
              "    }\n",
              "    40% {\n",
              "      border-color: transparent;\n",
              "      border-right-color: var(--fill-color);\n",
              "      border-top-color: var(--fill-color);\n",
              "    }\n",
              "    60% {\n",
              "      border-color: transparent;\n",
              "      border-right-color: var(--fill-color);\n",
              "    }\n",
              "    80% {\n",
              "      border-color: transparent;\n",
              "      border-right-color: var(--fill-color);\n",
              "      border-bottom-color: var(--fill-color);\n",
              "    }\n",
              "    90% {\n",
              "      border-color: transparent;\n",
              "      border-bottom-color: var(--fill-color);\n",
              "    }\n",
              "  }\n",
              "</style>\n",
              "\n",
              "  <script>\n",
              "    async function quickchart(key) {\n",
              "      const quickchartButtonEl =\n",
              "        document.querySelector('#' + key + ' button');\n",
              "      quickchartButtonEl.disabled = true;  // To prevent multiple clicks.\n",
              "      quickchartButtonEl.classList.add('colab-df-spinner');\n",
              "      try {\n",
              "        const charts = await google.colab.kernel.invokeFunction(\n",
              "            'suggestCharts', [key], {});\n",
              "      } catch (error) {\n",
              "        console.error('Error during call to suggestCharts:', error);\n",
              "      }\n",
              "      quickchartButtonEl.classList.remove('colab-df-spinner');\n",
              "      quickchartButtonEl.classList.add('colab-df-quickchart-complete');\n",
              "    }\n",
              "    (() => {\n",
              "      let quickchartButtonEl =\n",
              "        document.querySelector('#df-2a285500-b3b6-411b-8f14-9ff972d5c8fa button');\n",
              "      quickchartButtonEl.style.display =\n",
              "        google.colab.kernel.accessAllowed ? 'block' : 'none';\n",
              "    })();\n",
              "  </script>\n",
              "</div>\n",
              "\n",
              "  <div id=\"id_162bdc07-f2b5-4a13-8af4-0bf45e14c13f\">\n",
              "    <style>\n",
              "      .colab-df-generate {\n",
              "        background-color: #E8F0FE;\n",
              "        border: none;\n",
              "        border-radius: 50%;\n",
              "        cursor: pointer;\n",
              "        display: none;\n",
              "        fill: #1967D2;\n",
              "        height: 32px;\n",
              "        padding: 0 0 0 0;\n",
              "        width: 32px;\n",
              "      }\n",
              "\n",
              "      .colab-df-generate:hover {\n",
              "        background-color: #E2EBFA;\n",
              "        box-shadow: 0px 1px 2px rgba(60, 64, 67, 0.3), 0px 1px 3px 1px rgba(60, 64, 67, 0.15);\n",
              "        fill: #174EA6;\n",
              "      }\n",
              "\n",
              "      [theme=dark] .colab-df-generate {\n",
              "        background-color: #3B4455;\n",
              "        fill: #D2E3FC;\n",
              "      }\n",
              "\n",
              "      [theme=dark] .colab-df-generate:hover {\n",
              "        background-color: #434B5C;\n",
              "        box-shadow: 0px 1px 3px 1px rgba(0, 0, 0, 0.15);\n",
              "        filter: drop-shadow(0px 1px 2px rgba(0, 0, 0, 0.3));\n",
              "        fill: #FFFFFF;\n",
              "      }\n",
              "    </style>\n",
              "    <button class=\"colab-df-generate\" onclick=\"generateWithVariable('df')\"\n",
              "            title=\"Generate code using this dataframe.\"\n",
              "            style=\"display:none;\">\n",
              "\n",
              "  <svg xmlns=\"http://www.w3.org/2000/svg\" height=\"24px\"viewBox=\"0 0 24 24\"\n",
              "       width=\"24px\">\n",
              "    <path d=\"M7,19H8.4L18.45,9,17,7.55,7,17.6ZM5,21V16.75L18.45,3.32a2,2,0,0,1,2.83,0l1.4,1.43a1.91,1.91,0,0,1,.58,1.4,1.91,1.91,0,0,1-.58,1.4L9.25,21ZM18.45,9,17,7.55Zm-12,3A5.31,5.31,0,0,0,4.9,8.1,5.31,5.31,0,0,0,1,6.5,5.31,5.31,0,0,0,4.9,4.9,5.31,5.31,0,0,0,6.5,1,5.31,5.31,0,0,0,8.1,4.9,5.31,5.31,0,0,0,12,6.5,5.46,5.46,0,0,0,6.5,12Z\"/>\n",
              "  </svg>\n",
              "    </button>\n",
              "    <script>\n",
              "      (() => {\n",
              "      const buttonEl =\n",
              "        document.querySelector('#id_162bdc07-f2b5-4a13-8af4-0bf45e14c13f button.colab-df-generate');\n",
              "      buttonEl.style.display =\n",
              "        google.colab.kernel.accessAllowed ? 'block' : 'none';\n",
              "\n",
              "      buttonEl.onclick = () => {\n",
              "        google.colab.notebook.generateWithVariable('df');\n",
              "      }\n",
              "      })();\n",
              "    </script>\n",
              "  </div>\n",
              "\n",
              "    </div>\n",
              "  </div>\n"
            ],
            "application/vnd.google.colaboratory.intrinsic+json": {
              "type": "dataframe",
              "variable_name": "df"
            }
          },
          "metadata": {},
          "execution_count": 61
        }
      ]
    },
    {
      "cell_type": "markdown",
      "source": [
        "#Analisis exploratorio\n",
        "Iremos investigando más a profundidad cada uno de los datos que tenemos, esto nos permitira realizar descubrimientos en los datos que nos seran utiles a lo largo del analisis, ya que nos pueden comunicar anomalias que se presenten y poder responder algunas preguntas que nos deja el dataset"
      ],
      "metadata": {
        "id": "w5IROs2HSgs_"
      }
    },
    {
      "cell_type": "markdown",
      "source": [
        "###Número de clientes\n",
        "Pensariamos que en base a la cantidad de datos tendriamos una cantidad de clientes bastante elevada tambien, sin embargo descubrimos que no es el caso, ya que en el dataset contamos solo con 4990 clientes lo cual puede ser una mala noticia ya que podriamos tener clientes que tengan muchas transacciones que fueron etiquetadas como fraudulentas o que fueron victimas de algun robo."
      ],
      "metadata": {
        "id": "TRJa3XMYT6li"
      }
    },
    {
      "cell_type": "code",
      "source": [
        "numero_de_clientes = df['CUSTOMER_ID'].nunique()\n",
        "numero_de_clientes"
      ],
      "metadata": {
        "colab": {
          "base_uri": "https://localhost:8080/"
        },
        "id": "GIJHuOQROt8_",
        "outputId": "c9ace74c-f279-45fc-8e9d-ccfc525eb72d"
      },
      "execution_count": 62,
      "outputs": [
        {
          "output_type": "execute_result",
          "data": {
            "text/plain": [
              "4990"
            ]
          },
          "metadata": {},
          "execution_count": 62
        }
      ]
    },
    {
      "cell_type": "markdown",
      "source": [
        "#Clientes afectados por transaciones fraudulentas\n",
        "Como comentaba anteriormente lamentablemente tenemos aproximadamente un `85%` de clientes afectado por transacciones fraudulentes lo cual es un panorama bastante desolador, sin em,bargo vamos a tratar de mejorar esto mediante un modelo que logre evitar esto."
      ],
      "metadata": {
        "id": "Lqnf9MX4W9aN"
      }
    },
    {
      "cell_type": "code",
      "source": [
        "clientes_con_transaciones_fraudulentas = df['CUSTOMER_ID'][df['TX_FRAUD']==1]\n",
        "clientes_con_transaciones_fraudulentas.nunique()"
      ],
      "metadata": {
        "colab": {
          "base_uri": "https://localhost:8080/"
        },
        "id": "FAkdOwWmUp0O",
        "outputId": "7b7f9c72-1a9b-41c5-aa22-cadaef33090f"
      },
      "execution_count": 65,
      "outputs": [
        {
          "output_type": "execute_result",
          "data": {
            "text/plain": [
              "4258"
            ]
          },
          "metadata": {},
          "execution_count": 65
        }
      ]
    },
    {
      "cell_type": "code",
      "source": [
        "clientes_con_transaciones_no_fraudulentas = numero_de_clientes-clientes_con_transaciones_fraudulentas.nunique()\n",
        "clientes_con_transaciones_no_fraudulentas"
      ],
      "metadata": {
        "colab": {
          "base_uri": "https://localhost:8080/"
        },
        "id": "vkzSXJpJev1m",
        "outputId": "dfdb60c7-89c3-4007-844f-fb9b7bbf061d"
      },
      "execution_count": 66,
      "outputs": [
        {
          "output_type": "execute_result",
          "data": {
            "text/plain": [
              "732"
            ]
          },
          "metadata": {},
          "execution_count": 66
        }
      ]
    },
    {
      "cell_type": "code",
      "source": [
        "plt.figure(figsize=(8,5))\n",
        "ax = sns.barplot(x=[0,1], y=[732,4258], palette=\"Set2\")\n",
        "plt.title('Clientes afectados por transaciones fraudulentas')\n",
        "custom_legend = [plt.Line2D([0], [0], color=sns.color_palette(\"Set2\")[0], lw=4),\n",
        "                 plt.Line2D([0], [0], color=sns.color_palette(\"Set2\")[1], lw=4)]\n",
        "plt.ylabel('N_de_clientes')\n",
        "plt.xlabel('Estado')\n",
        "\n",
        "# Mostrar la leyenda personalizada\n",
        "ax.legend(custom_legend, ['No afectado', 'Afectado'])\n",
        "plt.show()"
      ],
      "metadata": {
        "colab": {
          "base_uri": "https://localhost:8080/",
          "height": 579
        },
        "id": "pEtHFVFOYXAS",
        "outputId": "42fdbd3c-d773-432f-f4d8-7a6b87fd0cf6"
      },
      "execution_count": 67,
      "outputs": [
        {
          "output_type": "stream",
          "name": "stderr",
          "text": [
            "<ipython-input-67-5ff0d2a896cd>:2: FutureWarning: \n",
            "\n",
            "Passing `palette` without assigning `hue` is deprecated and will be removed in v0.14.0. Assign the `x` variable to `hue` and set `legend=False` for the same effect.\n",
            "\n",
            "  ax = sns.barplot(x=[0,1], y=[732,4258], palette=\"Set2\")\n"
          ]
        },
        {
          "output_type": "display_data",
          "data": {
            "text/plain": [
              "<Figure size 800x500 with 1 Axes>"
            ],
            "image/png": "[encoded data removed]"
          },
          "metadata": {}
        }
      ]
    },
    {
      "cell_type": "markdown",
      "source": [
        "##Clientes que no fueron afectados por transacciones fraudulentas\n",
        "Aquí seguimos dándonos cuenta del panorama tan desolador; sin embargo, gracias a estos datos pude dar con algo que puede ser muy interesante y que de ser así es sospechoso, lo que creo que está sucediendo es que podría haber clientes en él datase que no tengan ni una sola transacción que no sea fraudulenta y esto lo sospeche debido a que hay 3 datos que faltaron al momento de buscar los clientes que no tuvieron transacciones fraudulentas, como dije al ser tantos datos es obvio que los clientes van a tener al menos una transacción fraudulenta y puede que varias más no por eso aparecen en los datos que no tuvieron transacciones fraudulentas como los que si, en fin lo que compete es que 3 clientes posiblemente no tengan ninguna transacción legal o que no sea fraudulenta y eso es preocupante, sin embargo vamos a resolver esta duda"
      ],
      "metadata": {
        "id": "SL7P7AlzfQZJ"
      }
    },
    {
      "cell_type": "code",
      "source": [
        "unique_customers_total = df['CUSTOMER_ID'].nunique()\n",
        "print(\"Número total de clientes únicos en el conjunto de datos:\", unique_customers_total)"
      ],
      "metadata": {
        "colab": {
          "base_uri": "https://localhost:8080/"
        },
        "id": "F_uY7-Exc8Td",
        "outputId": "1c4418a5-cf9b-4319-d873-2e04e69e290b"
      },
      "execution_count": 68,
      "outputs": [
        {
          "output_type": "stream",
          "name": "stdout",
          "text": [
            "Número total de clientes únicos en el conjunto de datos: 4990\n"
          ]
        }
      ]
    },
    {
      "cell_type": "code",
      "source": [
        "unique_customers_no_fraud = df[df['TX_FRAUD'] == 0]['CUSTOMER_ID'].nunique()\n",
        "print(\"Número de clientes únicos que tuvieron transacciones sin fraude:\", unique_customers_no_fraud)"
      ],
      "metadata": {
        "colab": {
          "base_uri": "https://localhost:8080/"
        },
        "id": "0YlXZ1xzTW4p",
        "outputId": "97b38fbd-28e4-4344-cfdc-ce1b729e7d21"
      },
      "execution_count": 69,
      "outputs": [
        {
          "output_type": "stream",
          "name": "stdout",
          "text": [
            "Número de clientes únicos que tuvieron transacciones sin fraude: 4987\n"
          ]
        }
      ]
    },
    {
      "cell_type": "markdown",
      "source": [
        "#Respuesta a nuestra duda\n",
        "Tenemos los id de los clientes que no han tenido ninguna transaccion legitima o que por lo menos no se encuentran en los datos que no han tenido transacciones fraudulentas por lo cual sera una buena idea investigar mas a fondo estos datos."
      ],
      "metadata": {
        "id": "uU4Bb80lWNgZ"
      }
    },
    {
      "cell_type": "code",
      "source": [
        "missing_no_fraud_clients = set(df['CUSTOMER_ID'].unique()) - set(df[df['TX_FRAUD'] == 0]['CUSTOMER_ID'].unique())\n",
        "print(\"Clientes faltantes en la cuenta de los que no han sufrido fraude:\", missing_no_fraud_clients)"
      ],
      "metadata": {
        "colab": {
          "base_uri": "https://localhost:8080/"
        },
        "id": "_po9rAE5Tf7Z",
        "outputId": "0fa2f842-0561-4d93-9fee-696dc2a1e40a"
      },
      "execution_count": 70,
      "outputs": [
        {
          "output_type": "stream",
          "name": "stdout",
          "text": [
            "Clientes faltantes en la cuenta de los que no han sufrido fraude: {4875, 4892, 1942}\n"
          ]
        }
      ]
    },
    {
      "cell_type": "code",
      "source": [
        "df['TERMINAL_ID'].nunique()"
      ],
      "metadata": {
        "colab": {
          "base_uri": "https://localhost:8080/"
        },
        "id": "uRnHeChpPjGv",
        "outputId": "b0114eaa-bcd1-4093-bf29-14de2006116d"
      },
      "execution_count": 17,
      "outputs": [
        {
          "output_type": "execute_result",
          "data": {
            "text/plain": [
              "10000"
            ]
          },
          "metadata": {},
          "execution_count": 17
        }
      ]
    },
    {
      "cell_type": "code",
      "source": [
        "df['TX_FRAUD'].value_counts()"
      ],
      "metadata": {
        "colab": {
          "base_uri": "https://localhost:8080/"
        },
        "id": "Q1tJAx51QYZy",
        "outputId": "42d3e550-c1cd-4431-e8b6-ba71f859e2a9"
      },
      "execution_count": 18,
      "outputs": [
        {
          "output_type": "execute_result",
          "data": {
            "text/plain": [
              "0    1518186\n",
              "1     235969\n",
              "Name: TX_FRAUD, dtype: int64"
            ]
          },
          "metadata": {},
          "execution_count": 18
        }
      ]
    },
    {
      "cell_type": "code",
      "source": [
        "df['TX_FRAUD_SCENARIO'].nunique()"
      ],
      "metadata": {
        "colab": {
          "base_uri": "https://localhost:8080/"
        },
        "id": "j1JMrA06Pr1-",
        "outputId": "5bb60973-2c7f-46f3-bf0b-a6dd2175f15a"
      },
      "execution_count": 19,
      "outputs": [
        {
          "output_type": "execute_result",
          "data": {
            "text/plain": [
              "4"
            ]
          },
          "metadata": {},
          "execution_count": 19
        }
      ]
    },
    {
      "cell_type": "code",
      "source": [
        "df['TX_FRAUD_SCENARIO'].value_counts()"
      ],
      "metadata": {
        "colab": {
          "base_uri": "https://localhost:8080/"
        },
        "id": "SdXoajwKQMu6",
        "outputId": "0176de43-465b-4d8b-a398-acb30980e8f4"
      },
      "execution_count": 20,
      "outputs": [
        {
          "output_type": "execute_result",
          "data": {
            "text/plain": [
              "0    1518186\n",
              "1     222261\n",
              "2       9077\n",
              "3       4631\n",
              "Name: TX_FRAUD_SCENARIO, dtype: int64"
            ]
          },
          "metadata": {},
          "execution_count": 20
        }
      ]
    },
    {
      "cell_type": "code",
      "source": [
        "df[df['TX_FRAUD_SCENARIO']==1].shape"
      ],
      "metadata": {
        "colab": {
          "base_uri": "https://localhost:8080/"
        },
        "id": "byd4zXMxQG4A",
        "outputId": "3b1fa923-24d5-45d8-cd89-4188353c4cf7"
      },
      "execution_count": 21,
      "outputs": [
        {
          "output_type": "execute_result",
          "data": {
            "text/plain": [
              "(222261, 8)"
            ]
          },
          "metadata": {},
          "execution_count": 21
        }
      ]
    },
    {
      "cell_type": "code",
      "source": [
        "df[df['TX_FRAUD_SCENARIO']==0].shape"
      ],
      "metadata": {
        "colab": {
          "base_uri": "https://localhost:8080/"
        },
        "id": "_i5yrMmfW1hs",
        "outputId": "05515c20-0d0b-495d-dabb-48e56bf35887"
      },
      "execution_count": 71,
      "outputs": [
        {
          "output_type": "execute_result",
          "data": {
            "text/plain": [
              "(1518186, 9)"
            ]
          },
          "metadata": {},
          "execution_count": 71
        }
      ]
    }
  ]
}